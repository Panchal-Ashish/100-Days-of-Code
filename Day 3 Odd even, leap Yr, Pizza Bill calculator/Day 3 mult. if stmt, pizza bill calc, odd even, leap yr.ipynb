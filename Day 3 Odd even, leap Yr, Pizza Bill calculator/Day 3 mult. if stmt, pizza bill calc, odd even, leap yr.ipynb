{
 "cells": [
  {
   "cell_type": "markdown",
   "metadata": {},
   "source": [
    "# odd even"
   ]
  },
  {
   "cell_type": "code",
   "execution_count": null,
   "metadata": {},
   "outputs": [],
   "source": [
    "n = int(input(\"Enter a number: \"))  # odd even number identification\n",
    "if (n%2==0):   # %(Modulo) takes remainder, / takes quotient    \n",
    "    print(\"%d is a even number\" %n )  # %s for name... i.e string\n",
    "else:\n",
    "    print (\"%d is an odd number\"%(n))"
   ]
  },
  {
   "cell_type": "code",
   "execution_count": null,
   "metadata": {},
   "outputs": [],
   "source": []
  },
  {
   "cell_type": "code",
   "execution_count": null,
   "metadata": {},
   "outputs": [],
   "source": []
  },
  {
   "cell_type": "markdown",
   "metadata": {},
   "source": [
    "# Leap year"
   ]
  },
  {
   "cell_type": "code",
   "execution_count": 21,
   "metadata": {},
   "outputs": [
    {
     "name": "stdout",
     "output_type": "stream",
     "text": [
      "Enter the year: 2025\n",
      "2025 is not a leap year.\n"
     ]
    }
   ],
   "source": [
    "# condition for leap year\n",
    "#If divisible by 4...then check divisible by 100... if not.... leap\n",
    "# if divisible by 100, then it also needs to be divisible by 400...if both yes, leap yr....if not divisible by 400, not leap yr\n",
    "n = int(input(\"Enter the year: \"))\n",
    "\n",
    "if n%4 == 0:\n",
    "    if (n%100 == 0):\n",
    "        if (n%400 == 0):\n",
    "            print(\"%d is a leap year.\"%n)\n",
    "        else :\n",
    "            print(\"%d is not a leap year.\"%n)\n",
    "    \n",
    "    else:\n",
    "        print(\"%d is a leap year.\"%n)\n",
    "    \n",
    "else:\n",
    "    print(\"%d is not a leap year.\"%n)"
   ]
  },
  {
   "cell_type": "code",
   "execution_count": null,
   "metadata": {},
   "outputs": [],
   "source": []
  },
  {
   "cell_type": "code",
   "execution_count": null,
   "metadata": {},
   "outputs": [],
   "source": []
  },
  {
   "cell_type": "markdown",
   "metadata": {},
   "source": [
    "# Multiple if.... all if conditions that are satisfied are executed"
   ]
  },
  {
   "cell_type": "code",
   "execution_count": null,
   "metadata": {},
   "outputs": [],
   "source": [
    "print(\"Welcome to rollercoaster!!!\")\n",
    "ht = int(input(\"What is your height in cms? \"))\n",
    "\n",
    "if ht >= 120:\n",
    "  age = int(input(\"What is your age? \"))\n",
    "  bill = 0\n",
    "\n",
    "  if age < 5:\n",
    "    print(\"Child tickets are $20\")\n",
    "    bill = 20\n",
    "  if 5 < age < 15:\n",
    "    print(\"Youth tickets are $40\")\n",
    "    bill = 40\n",
    "  if age > 15:\n",
    "    print(\"Adult tickets are %50\")\n",
    "    bill = 50\n",
    "\n",
    "  photo = input(\"Do you want a photo ($5) ? Y or N? \")\n",
    "\n",
    "  if photo == \"Y\":\n",
    "    bill = bill + 5\n",
    "\n",
    "  print(f\"your total bill is $ {bill}\")\n",
    "\n",
    "\n",
    "else:\n",
    "  print(\"OOPS!!! you are not eligible\")\n"
   ]
  },
  {
   "cell_type": "code",
   "execution_count": 1,
   "metadata": {},
   "outputs": [
    {
     "name": "stdout",
     "output_type": "stream",
     "text": [
      "Welcome to rollercoaster!!!\n",
      "What is your height in cms? 159\n",
      "What is your age? 45\n",
      "Adult tickets are %50\n",
      "Do you want a photo ($5) ? Y or N? y\n",
      "your total bill is $ 50\n"
     ]
    }
   ],
   "source": [
    "print(\"Welcome to rollercoaster!!!\")\n",
    "ht = int(input(\"What is your height in cms? \"))\n",
    "\n",
    "if ht >= 120:\n",
    "  age = int(input(\"What is your age? \"))\n",
    "  bill = 0\n",
    "\n",
    "  if age < 8:\n",
    "    print(\"Child tickets are $20\")\n",
    "    bill = 20\n",
    "  elif 5 < age < 18:\n",
    "    print(\"Youth tickets are $40\")\n",
    "    bill = 40\n",
    "  elif age > 18:\n",
    "    print(\"Adult tickets are $50\")\n",
    "    bill = 50\n",
    "\n",
    "  photo = input(\"Do you want a photo ($5) ? Y or N? \")\n",
    "\n",
    "  if photo == \"Y\":\n",
    "    bill = bill + 5\n",
    "\n",
    "  print(f\"your total bill is $ {bill}\")\n",
    "\n",
    "\n",
    "else:\n",
    "  print(\"OOPS!!! you are not eligible\")\n"
   ]
  },
  {
   "cell_type": "code",
   "execution_count": null,
   "metadata": {},
   "outputs": [],
   "source": []
  },
  {
   "cell_type": "code",
   "execution_count": null,
   "metadata": {},
   "outputs": [],
   "source": []
  },
  {
   "cell_type": "markdown",
   "metadata": {},
   "source": []
  },
  {
   "cell_type": "markdown",
   "metadata": {},
   "source": [
    "# Pizza Bill Calculator"
   ]
  },
  {
   "cell_type": "code",
   "execution_count": 2,
   "metadata": {},
   "outputs": [
    {
     "name": "stdout",
     "output_type": "stream",
     "text": [
      "Welcome to pizza delivery system!!!\n",
      "Rates:-\n",
      "Small Pizza- $499\n",
      "Medium Pizza- $699\n",
      "Large - $899\n",
      "\n",
      "\n",
      "Extra peppperoni for small pizza - $40\n",
      "Extra peppperoni for Medium and Large pizza - $60\n",
      "\n",
      "\n",
      "Extra cheese for small pizza - $80\n",
      "Extra cheese for Medium and Large pizza - $120\n",
      "What size pizza do you want? S, M or L?  S\n",
      "Do you want extra Pepperoni? Y or N? Y\n",
      "Do you want extra cheese? Y or N? Y\n",
      "\n",
      "\n",
      "Your total bill is 619\n"
     ]
    }
   ],
   "source": [
    "print(\"Welcome to pizza delivery system!!!\")\n",
    "print(\"Rates:-\")\n",
    "print(\"Small Pizza- $499\\nMedium Pizza- $699\\nLarge - $899\")\n",
    "print(\"\\n\")\n",
    "print(\"Extra peppperoni for small pizza - $40\")\n",
    "print(\"Extra peppperoni for Medium and Large pizza - $60\")\n",
    "print(\"\\n\")\n",
    "print(\"Extra cheese for small pizza - $80\")\n",
    "print(\"Extra cheese for Medium and Large pizza - $120\")\n",
    "print(\"\\n\")\n",
    "\n",
    "bill = 0\n",
    "\n",
    "\n",
    "size = input(\"What size pizza do you want? S, M or L?  \")\n",
    "if size == \"S\":\n",
    "  bill = bill + 499\n",
    "\n",
    "elif size == \"M\":\n",
    "  bill = bill + 699\n",
    "\n",
    "elif size == \"L\":\n",
    "  bill = bill + 899\n",
    "\n",
    "\n",
    "pepperoni = input(\"Do you want extra Pepperoni? Y or N? \")\n",
    "if pepperoni == \"Y\":\n",
    "  if size == \"S\":\n",
    "    bill = bill + 40\n",
    "  if size == \"M\" or size == \"L\":\n",
    "    bill = bill + 60\n",
    "\n",
    "cheese = input(\"Do you want extra cheese? Y or N? \")\n",
    "if cheese == \"Y\":\n",
    "    if size == \"S\":\n",
    "      bill = bill + 80\n",
    "    if size == \"M\" or size == \"L\":\n",
    "      bill = bill + 120\n",
    "\n",
    "print(\"\\n\")\n",
    "print(\"Your total bill is\",bill)\n"
   ]
  },
  {
   "cell_type": "code",
   "execution_count": null,
   "metadata": {},
   "outputs": [],
   "source": []
  },
  {
   "cell_type": "code",
   "execution_count": null,
   "metadata": {},
   "outputs": [],
   "source": []
  },
  {
   "cell_type": "markdown",
   "metadata": {},
   "source": [
    "# love calculator"
   ]
  },
  {
   "cell_type": "code",
   "execution_count": null,
   "metadata": {},
   "outputs": [],
   "source": [
    "name_1 = input(\"What is your name? \")\n",
    "name_2 = input(\"What is their name?\")\n",
    "\n",
    "combined = name_1 + name_2\n",
    "lower_combined = combined.lower()\n",
    "\n",
    "#true\n",
    "t = lower_combined.count(\"t\")\n",
    "r = lower_combined.count(\"r\")\n",
    "u = lower_combined.count(\"u\")\n",
    "e = lower_combined.count(\"e\")\n",
    "true = t+r+u+e  #.... integer\n",
    "\n",
    "#love\n",
    "l = lower_combined.count(\"l\")\n",
    "o = lower_combined.count(\"o\")\n",
    "v = lower_combined.count(\"tv\")\n",
    "e = lower_combined.count(\"e\")\n",
    "love = l+o+v+e  #.... integer\n",
    "\n",
    "love_score = int(str(true) + str(love))\n",
    "# converted to string for concatenation (not addition)\n",
    "# converted to integer gor further comparison with integers\n",
    "\n",
    "if (love_score < 10) and (love_score > 90):\n",
    "  print(f\" your love score is {love_score}, you go like coke and mentos!!!\")\n",
    "elif (love_score > 40) and (love_score < 60):\n",
    "  print(f\" your love score is {love_score}, you are alright together!!!\")\n",
    "else:\n",
    "  print(\"Your love score is \", love_score)"
   ]
  },
  {
   "cell_type": "code",
   "execution_count": null,
   "metadata": {},
   "outputs": [],
   "source": []
  },
  {
   "cell_type": "markdown",
   "metadata": {},
   "source": [
    "# Treasure island"
   ]
  },
  {
   "cell_type": "code",
   "execution_count": null,
   "metadata": {},
   "outputs": [],
   "source": [
    "print(\"Welcome to Treasure Island!!!\\nYour mission is to find the treasure\")\n",
    "way = input(\"You're at a crossroad. Where do you want to go? type left or right \\n\")\n",
    "lower_way = way.lower()\n",
    "\n",
    "if lower_way ==\"left\": # continue\n",
    "  print(\"You arrive at a lake. There is a island in the lake. Do you want to wait or swim? \")\n",
    "  \n",
    "  swim_or_wait = input(\"Type wait or swim? \")\n",
    "  lower_s_or_w = swim_or_wait.lower()\n",
    "\n",
    "  if lower_s_or_w == \"wait\": # continue\n",
    "    print(\"You arrive at the island unharmed!!!\")\n",
    "    print(\"There are three doors ahead of you. Red,Yellow and Blue. Which one do you want to choose? \")\n",
    "\n",
    "    door = input(\"Type red,yellow or blue? \")\n",
    "    lower_door = door.lower()\n",
    "\n",
    "    if door == \"yellow\":\n",
    "      print(\"Congratulations!!! You found the treasure\\nGame over.\")\n",
    "    elif door == \"red\" or door == \"blue\":\n",
    "      print(\"You lose. You enter a room full of beasts!!!\\nGame over.\")\n",
    "    else:\n",
    "      print(\"Incorrect input\")\n",
    "\n",
    "  \n",
    "  elif lower_s_or_w == \"swim\":\n",
    "    print(\"You lose. You were eaten by a crocodile!!! \\nGame over\")\n",
    "  else:\n",
    "    print(\"Incorrect input\")\n",
    "\n",
    "\n",
    "elif lower_way == \"right\":\n",
    "  print(\"You lose. You met an accident.\\nGame over.\")\n",
    "else:\n",
    "  print(\"Incorrect input\")"
   ]
  }
 ],
 "metadata": {
  "kernelspec": {
   "display_name": "Python 3",
   "language": "python",
   "name": "python3"
  },
  "language_info": {
   "codemirror_mode": {
    "name": "ipython",
    "version": 3
   },
   "file_extension": ".py",
   "mimetype": "text/x-python",
   "name": "python",
   "nbconvert_exporter": "python",
   "pygments_lexer": "ipython3",
   "version": "3.8.5"
  }
 },
 "nbformat": 4,
 "nbformat_minor": 4
}
