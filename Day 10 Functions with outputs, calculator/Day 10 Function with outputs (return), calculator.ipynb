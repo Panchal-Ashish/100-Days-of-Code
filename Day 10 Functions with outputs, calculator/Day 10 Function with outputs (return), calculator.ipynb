{
 "cells": [
  {
   "cell_type": "markdown",
   "metadata": {},
   "source": [
    "# Days in months"
   ]
  },
  {
   "cell_type": "markdown",
   "metadata": {},
   "source": [
    "method 1"
   ]
  },
  {
   "cell_type": "code",
   "execution_count": 8,
   "metadata": {},
   "outputs": [
    {
     "name": "stdout",
     "output_type": "stream",
     "text": [
      "Enter a year: 2020\n",
      "Enter a month: 2\n",
      "29\n"
     ]
    }
   ],
   "source": [
    "def is_leap(year):\n",
    "    if year % 4 == 0:\n",
    "        if year % 100 == 0:\n",
    "            if year % 400 == 0:\n",
    "                return True\n",
    "            else:\n",
    "                return False\n",
    "        else:\n",
    "            return True\n",
    "    else:\n",
    "        return False\n",
    "\n",
    "\n",
    "def days_in_month(year,month):\n",
    "    \"\"\" Returns the number of days in the month and year specified\"\"\" # docstring... shows a popup regarding description of function whenever it is called\n",
    "    month_days = [31, 28, 31, 30, 31, 30, 31, 31, 30, 31, 30, 31]\n",
    "    if month > 12 or month < 1:\n",
    "        return \"You entered an invalid month\"\n",
    "    if is_leap(year) :\n",
    "        if month == 2:\n",
    "            return 29\n",
    "        return month_days[month - 1]\n",
    "    else:\n",
    "        return month_days[month - 1]\n",
    "\n",
    "\n",
    "#🚨 Do NOT change any of the code below\n",
    "year = int(input(\"Enter a year: \"))\n",
    "month = int(input(\"Enter a month: \"))\n",
    "days = days_in_month(year, month)\n",
    "print(days)\n"
   ]
  },
  {
   "cell_type": "markdown",
   "metadata": {},
   "source": []
  },
  {
   "cell_type": "markdown",
   "metadata": {},
   "source": [
    "method 2"
   ]
  },
  {
   "cell_type": "code",
   "execution_count": 4,
   "metadata": {},
   "outputs": [
    {
     "name": "stdout",
     "output_type": "stream",
     "text": [
      "Enter a year: 2020\n",
      "Enter a month: 2\n",
      "29\n"
     ]
    }
   ],
   "source": [
    "def is_leap(year):\n",
    "    if year % 4 == 0:\n",
    "        if year % 100 == 0:\n",
    "            if year % 400 == 0:\n",
    "                return True\n",
    "            else:\n",
    "                return False\n",
    "        else:\n",
    "            return True\n",
    "    else:\n",
    "        return False\n",
    "\n",
    "\n",
    "def days_in_month(year,month):\n",
    "    \"\"\" Returns the number of days in the month and year specified\"\"\" # docstring... shows a popup regarding description of function whenever it is called\n",
    "    month_days = [31, 28, 31, 30, 31, 30, 31, 31, 30, 31, 30, 31]\n",
    "    if month > 12 or month < 1:\n",
    "        return \"You entered an invalid month\"\n",
    "    if is_leap(year) and month == 2 :\n",
    "        return 29\n",
    "    else:\n",
    "        return month_days[month - 1]\n",
    "\n",
    "\n",
    "#🚨 Do NOT change any of the code below\n",
    "year = int(input(\"Enter a year: \"))\n",
    "month = int(input(\"Enter a month: \"))\n",
    "days = days_in_month(year, month)\n",
    "print(days)\n"
   ]
  },
  {
   "cell_type": "code",
   "execution_count": null,
   "metadata": {},
   "outputs": [],
   "source": []
  },
  {
   "cell_type": "markdown",
   "metadata": {},
   "source": [
    "# Calculator"
   ]
  },
  {
   "cell_type": "markdown",
   "metadata": {},
   "source": [
    "stage 1"
   ]
  },
  {
   "cell_type": "code",
   "execution_count": null,
   "metadata": {},
   "outputs": [
    {
     "name": "stdout",
     "output_type": "stream",
     "text": [
      "Enter the first number: 1\n",
      "+\n",
      "-\n",
      "*\n",
      "/\n",
      "Pick an operation: +\n",
      "Enter the next number: 1\n",
      "1.0 + 1.0 = 2.0\n"
     ]
    }
   ],
   "source": [
    "def add(n1,n2):\n",
    "    \"\"\"Adds two numbers\"\"\"\n",
    "    return n1 + n2\n",
    "\n",
    "def subtract(n1,n2):\n",
    "    \"\"\"Subtracts second number from first number\"\"\"\n",
    "    return n1 - n2\n",
    "\n",
    "def multiply(n1,n2):\n",
    "    \"\"\"Multiplies the two numbers\"\"\"\n",
    "    return n1 * n2\n",
    "\n",
    "def division(n1,n2):\n",
    "    \"\"\"Divides first number with second number\"\"\"\n",
    "    return n1 / n2\n",
    "\n",
    "\n",
    "operations = {\n",
    "    \"+\":add,\n",
    "    \"-\":subtract,\n",
    "    \"*\":multiply,\n",
    "    \"/\":division\n",
    "}\n",
    "def calculator():\n",
    "    num1 = float(input(\"Enter the first number: \"))\n",
    "\n",
    "    for symbol in operations:\n",
    "        print(symbol)\n",
    "\n",
    "    should_continue = True\n",
    "    while should_continue:\n",
    "        operation_symbol = input(\"Pick an operation: \")\n",
    "        num2 = float(input(\"Enter the next number: \"))\n",
    "\n",
    "\n",
    "\n",
    "        # if operation_symbol == \"+\":\n",
    "        #     answer = add(num1,num2)\n",
    "\n",
    "        # if operation_symbol == \"-\":\n",
    "        #     answer = subtract(num1,num2)\n",
    "\n",
    "        # if operation_symbol == \"*\":\n",
    "        #     answer = multiply(num1,num2)\n",
    "\n",
    "        # if operation_symbol == \"/\":\n",
    "        #     answer = division(num1,num2)\n",
    "\n",
    "\n",
    "        calculation_symbol = operations[operation_symbol]\n",
    "        answer = calculation_symbol(num1,num2)\n",
    "\n",
    "        print(f\"{num1} {operation_symbol} {num2} = {answer}\")\n",
    "\n",
    "        cont = input(f\"Type 'Y' to continue calculating with {answer},\\n or type 'S' to start again ,\\n or type 'N' to stop:\\n\").upper()\n",
    "        if  cont == \"Y\": \n",
    "            num1 = answer\n",
    "        elif cont == \"S\":\n",
    "            calculator()\n",
    "        elif cont == \"N\":\n",
    "            should_continue = False\n",
    "            \n",
    "calculator()"
   ]
  },
  {
   "cell_type": "code",
   "execution_count": null,
   "metadata": {},
   "outputs": [],
   "source": []
  },
  {
   "cell_type": "markdown",
   "metadata": {},
   "source": [
    "stage 2\n"
   ]
  },
  {
   "cell_type": "code",
   "execution_count": null,
   "metadata": {},
   "outputs": [],
   "source": []
  },
  {
   "cell_type": "code",
   "execution_count": null,
   "metadata": {},
   "outputs": [],
   "source": []
  },
  {
   "cell_type": "code",
   "execution_count": null,
   "metadata": {},
   "outputs": [],
   "source": []
  },
  {
   "cell_type": "code",
   "execution_count": null,
   "metadata": {},
   "outputs": [],
   "source": []
  },
  {
   "cell_type": "code",
   "execution_count": null,
   "metadata": {},
   "outputs": [],
   "source": []
  },
  {
   "cell_type": "code",
   "execution_count": null,
   "metadata": {},
   "outputs": [],
   "source": []
  },
  {
   "cell_type": "code",
   "execution_count": null,
   "metadata": {},
   "outputs": [],
   "source": []
  },
  {
   "cell_type": "code",
   "execution_count": null,
   "metadata": {},
   "outputs": [],
   "source": []
  },
  {
   "cell_type": "code",
   "execution_count": null,
   "metadata": {},
   "outputs": [],
   "source": []
  },
  {
   "cell_type": "code",
   "execution_count": null,
   "metadata": {},
   "outputs": [],
   "source": []
  },
  {
   "cell_type": "code",
   "execution_count": null,
   "metadata": {},
   "outputs": [],
   "source": []
  },
  {
   "cell_type": "code",
   "execution_count": null,
   "metadata": {},
   "outputs": [],
   "source": []
  },
  {
   "cell_type": "code",
   "execution_count": null,
   "metadata": {},
   "outputs": [],
   "source": []
  },
  {
   "cell_type": "code",
   "execution_count": null,
   "metadata": {},
   "outputs": [],
   "source": []
  },
  {
   "cell_type": "code",
   "execution_count": null,
   "metadata": {},
   "outputs": [],
   "source": []
  },
  {
   "cell_type": "code",
   "execution_count": null,
   "metadata": {},
   "outputs": [],
   "source": []
  },
  {
   "cell_type": "code",
   "execution_count": null,
   "metadata": {},
   "outputs": [],
   "source": []
  },
  {
   "cell_type": "code",
   "execution_count": null,
   "metadata": {},
   "outputs": [],
   "source": []
  },
  {
   "cell_type": "code",
   "execution_count": null,
   "metadata": {},
   "outputs": [],
   "source": []
  },
  {
   "cell_type": "code",
   "execution_count": null,
   "metadata": {},
   "outputs": [],
   "source": []
  },
  {
   "cell_type": "code",
   "execution_count": null,
   "metadata": {},
   "outputs": [],
   "source": []
  },
  {
   "cell_type": "code",
   "execution_count": null,
   "metadata": {},
   "outputs": [],
   "source": []
  },
  {
   "cell_type": "code",
   "execution_count": null,
   "metadata": {},
   "outputs": [],
   "source": []
  },
  {
   "cell_type": "code",
   "execution_count": null,
   "metadata": {},
   "outputs": [],
   "source": []
  },
  {
   "cell_type": "code",
   "execution_count": null,
   "metadata": {},
   "outputs": [],
   "source": []
  },
  {
   "cell_type": "code",
   "execution_count": null,
   "metadata": {},
   "outputs": [],
   "source": []
  },
  {
   "cell_type": "code",
   "execution_count": null,
   "metadata": {},
   "outputs": [],
   "source": []
  },
  {
   "cell_type": "code",
   "execution_count": null,
   "metadata": {},
   "outputs": [],
   "source": []
  },
  {
   "cell_type": "code",
   "execution_count": null,
   "metadata": {},
   "outputs": [],
   "source": []
  },
  {
   "cell_type": "code",
   "execution_count": null,
   "metadata": {},
   "outputs": [],
   "source": []
  },
  {
   "cell_type": "code",
   "execution_count": null,
   "metadata": {},
   "outputs": [],
   "source": []
  },
  {
   "cell_type": "code",
   "execution_count": null,
   "metadata": {},
   "outputs": [],
   "source": []
  },
  {
   "cell_type": "code",
   "execution_count": null,
   "metadata": {},
   "outputs": [],
   "source": []
  },
  {
   "cell_type": "code",
   "execution_count": null,
   "metadata": {},
   "outputs": [],
   "source": []
  },
  {
   "cell_type": "code",
   "execution_count": null,
   "metadata": {},
   "outputs": [],
   "source": []
  },
  {
   "cell_type": "code",
   "execution_count": null,
   "metadata": {},
   "outputs": [],
   "source": [
    "\n"
   ]
  },
  {
   "cell_type": "code",
   "execution_count": null,
   "metadata": {},
   "outputs": [],
   "source": []
  },
  {
   "cell_type": "code",
   "execution_count": null,
   "metadata": {},
   "outputs": [],
   "source": []
  },
  {
   "cell_type": "code",
   "execution_count": null,
   "metadata": {},
   "outputs": [],
   "source": []
  },
  {
   "cell_type": "code",
   "execution_count": null,
   "metadata": {},
   "outputs": [],
   "source": []
  },
  {
   "cell_type": "code",
   "execution_count": null,
   "metadata": {},
   "outputs": [],
   "source": []
  }
 ],
 "metadata": {
  "kernelspec": {
   "display_name": "Python 3",
   "language": "python",
   "name": "python3"
  },
  "language_info": {
   "codemirror_mode": {
    "name": "ipython",
    "version": 3
   },
   "file_extension": ".py",
   "mimetype": "text/x-python",
   "name": "python",
   "nbconvert_exporter": "python",
   "pygments_lexer": "ipython3",
   "version": "3.8.5"
  }
 },
 "nbformat": 4,
 "nbformat_minor": 4
}
