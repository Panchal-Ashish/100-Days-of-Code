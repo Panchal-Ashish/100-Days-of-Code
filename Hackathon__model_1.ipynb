{
  "nbformat": 4,
  "nbformat_minor": 0,
  "metadata": {
    "colab": {
      "name": "Hackathon _model_1.ipynb",
      "provenance": [],
      "authorship_tag": "ABX9TyNGOLi+nyykXJ/bo9P/3IHy",
      "include_colab_link": true
    },
    "kernelspec": {
      "name": "python3",
      "display_name": "Python 3"
    },
    "language_info": {
      "name": "python"
    },
    "accelerator": "GPU"
  },
  "cells": [
    {
      "cell_type": "markdown",
      "metadata": {
        "id": "view-in-github",
        "colab_type": "text"
      },
      "source": [
        "<a href=\"https://colab.research.google.com/github/Panchal-Ashish/100-Days-of-Code/blob/main/Hackathon__model_1.ipynb\" target=\"_parent\"><img src=\"https://colab.research.google.com/assets/colab-badge.svg\" alt=\"Open In Colab\"/></a>"
      ]
    },
    {
      "cell_type": "code",
      "source": [
        "pip install pulp"
      ],
      "metadata": {
        "colab": {
          "base_uri": "https://localhost:8080/"
        },
        "id": "qCV02tVcKtWE",
        "outputId": "e9362a2e-089e-4361-fe04-4636fb737054"
      },
      "execution_count": 7,
      "outputs": [
        {
          "output_type": "stream",
          "name": "stdout",
          "text": [
            "Collecting pulp\n",
            "  Downloading PuLP-2.6.0-py3-none-any.whl (14.2 MB)\n",
            "\u001b[K     |████████████████████████████████| 14.2 MB 4.0 MB/s \n",
            "\u001b[?25hInstalling collected packages: pulp\n",
            "Successfully installed pulp-2.6.0\n"
          ]
        }
      ]
    },
    {
      "cell_type": "code",
      "execution_count": 8,
      "metadata": {
        "id": "9E517YyoJbFa"
      },
      "outputs": [],
      "source": [
        "from pulp import *"
      ]
    },
    {
      "cell_type": "code",
      "source": [
        "# Sources list\n",
        "branch = ['A','B','C','D']\n",
        "# Destination list\n",
        "warehouse = [1,2,3,4]"
      ],
      "metadata": {
        "id": "a5BHqbimKGSb"
      },
      "execution_count": 9,
      "outputs": []
    },
    {
      "cell_type": "code",
      "source": [
        "# Specifying supply limit from each branch\n",
        "supply = {'A': 35, 'B': 50, 'C': 80, 'D': 65}\n",
        "# Specifying demand requirement of each warehouse\n",
        "demand = {1:70, 2:30, 3:75, 4:55}"
      ],
      "metadata": {
        "id": "kO_v0CZbKrja"
      },
      "execution_count": 10,
      "outputs": []
    },
    {
      "cell_type": "code",
      "source": [
        "# Specifying the cost matrix\n",
        "cost = {\n",
        "    'A':{1:10, 2:7, 3:6, 4:4} ,\n",
        "    'B':{1:8, 2:8, 3:5, 4:7} ,\n",
        "    'C':{1:4, 2:3, 3:6, 4:9} ,\n",
        "    'D':{1:7, 2:5, 3:4, 4:3} ,\n",
        "}"
      ],
      "metadata": {
        "id": "ssOVccmGMXfX"
      },
      "execution_count": 11,
      "outputs": []
    },
    {
      "cell_type": "code",
      "source": [
        "# Initiating the solver\n",
        "model = LpProblem('Transportation', sense = LpMinimize)"
      ],
      "metadata": {
        "id": "ZEcNXEpbNPO9"
      },
      "execution_count": 12,
      "outputs": []
    },
    {
      "cell_type": "code",
      "source": [
        "# All possible routes (which later will be decision variables)\n",
        "routes = [(i,j)for i in branch for j in warehouse]"
      ],
      "metadata": {
        "id": "XY3DbEzCQKNk"
      },
      "execution_count": 13,
      "outputs": []
    },
    {
      "cell_type": "code",
      "source": [
        "# Defining Decision variables\n",
        "vars = LpVariable.dicts(\"Qty_shipped\", (branch, warehouse), lowBound=0, upBound=None,)"
      ],
      "metadata": {
        "id": "lJm9vnOLYdW9"
      },
      "execution_count": 15,
      "outputs": []
    },
    {
      "cell_type": "code",
      "source": [
        "# Defining Objective Function\n",
        "model += lpSum(vars[i][j] * cost[i][j] for (i,j) in routes)"
      ],
      "metadata": {
        "id": "b8unkYxGaLRF"
      },
      "execution_count": 16,
      "outputs": []
    },
    {
      "cell_type": "code",
      "source": [
        "# Constraints\n",
        "for j in warehouse:\n",
        "  model += lpSum(vars[i][j] for i in branch) >= demand[j]\n",
        "\n",
        "for i in branch:\n",
        "  model += lpSum(vars[i][j] for j in warehouse) <= supply[i]"
      ],
      "metadata": {
        "id": "l4S-VskPamO-"
      },
      "execution_count": 17,
      "outputs": []
    },
    {
      "cell_type": "code",
      "source": [
        "model.solve()"
      ],
      "metadata": {
        "colab": {
          "base_uri": "https://localhost:8080/"
        },
        "id": "98uPEABHbSUI",
        "outputId": "75e9746e-941b-4ea6-fa74-b5832126d8b8"
      },
      "execution_count": 18,
      "outputs": [
        {
          "output_type": "execute_result",
          "data": {
            "text/plain": [
              "1"
            ]
          },
          "metadata": {},
          "execution_count": 18
        }
      ]
    },
    {
      "cell_type": "code",
      "source": [
        "print(\"Status: \", LpStatus[model.status])"
      ],
      "metadata": {
        "colab": {
          "base_uri": "https://localhost:8080/"
        },
        "id": "Y6PNaxQUbV89",
        "outputId": "3ef7cd6c-184b-4daa-8d4e-d5ced4b6181f"
      },
      "execution_count": 19,
      "outputs": [
        {
          "output_type": "stream",
          "name": "stdout",
          "text": [
            "Status:  Optimal\n"
          ]
        }
      ]
    },
    {
      "cell_type": "code",
      "source": [
        "for v in model.variables():\n",
        "  print(v.name , \"=\", v.varValue)"
      ],
      "metadata": {
        "colab": {
          "base_uri": "https://localhost:8080/"
        },
        "id": "PLEtit5Wbgfp",
        "outputId": "c4ad6fbd-9a6c-4279-c46f-f0b4b5b43537"
      },
      "execution_count": 21,
      "outputs": [
        {
          "output_type": "stream",
          "name": "stdout",
          "text": [
            "Qty_shipped_A_1 = 0.0\n",
            "Qty_shipped_A_2 = 0.0\n",
            "Qty_shipped_A_3 = 0.0\n",
            "Qty_shipped_A_4 = 35.0\n",
            "Qty_shipped_B_1 = 0.0\n",
            "Qty_shipped_B_2 = 0.0\n",
            "Qty_shipped_B_3 = 50.0\n",
            "Qty_shipped_B_4 = 0.0\n",
            "Qty_shipped_C_1 = 70.0\n",
            "Qty_shipped_C_2 = 10.0\n",
            "Qty_shipped_C_3 = 0.0\n",
            "Qty_shipped_C_4 = 0.0\n",
            "Qty_shipped_D_1 = 0.0\n",
            "Qty_shipped_D_2 = 20.0\n",
            "Qty_shipped_D_3 = 25.0\n",
            "Qty_shipped_D_4 = 20.0\n"
          ]
        }
      ]
    },
    {
      "cell_type": "code",
      "source": [
        "print(f\"Total Transportation Cost is {value(model.objective)}\")"
      ],
      "metadata": {
        "colab": {
          "base_uri": "https://localhost:8080/"
        },
        "id": "sSNlvpNfb0tN",
        "outputId": "e46f9e88-834b-40a4-83c7-764bce765068"
      },
      "execution_count": 22,
      "outputs": [
        {
          "output_type": "stream",
          "name": "stdout",
          "text": [
            "Total Transportation Cost is 960.0\n"
          ]
        }
      ]
    },
    {
      "cell_type": "code",
      "source": [
        ""
      ],
      "metadata": {
        "id": "RI9C0sv9cJP4"
      },
      "execution_count": null,
      "outputs": []
    }
  ]
}