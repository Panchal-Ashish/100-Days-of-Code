{
 "cells": [
  {
   "cell_type": "markdown",
   "metadata": {},
   "source": [
    "# band name generator\n"
   ]
  },
  {
   "cell_type": "code",
   "execution_count": 2,
   "metadata": {},
   "outputs": [
    {
     "name": "stdout",
     "output_type": "stream",
     "text": [
      "Welcome to Band generator!\n",
      "\n",
      "Which city are you from?\n",
      "mumbai\n",
      "What is your pet name?\n",
      "dogs\n",
      "band name : mumbai dogs\n"
     ]
    }
   ],
   "source": [
    "print(\"Welcome to Band generator!\\n\")\n",
    "place = str(input(\"Which city are you from?\\n\"))\n",
    "pet = str(input(\"What is your pet name?\\n\"))\n",
    "\n",
    "bandname = place +\" \"+ pet\n",
    "\n",
    "print(\"band name :\", bandname)"
   ]
  },
  {
   "cell_type": "code",
   "execution_count": 11,
   "metadata": {},
   "outputs": [
    {
     "name": "stdout",
     "output_type": "stream",
     "text": [
      "Enter your name:Ashish\n",
      "Hello Ashish!\n"
     ]
    }
   ],
   "source": [
    "print(\"Hello \" + input(\"Enter your name:\") + \"!\")"
   ]
  },
  {
   "cell_type": "code",
   "execution_count": 12,
   "metadata": {},
   "outputs": [
    {
     "name": "stdout",
     "output_type": "stream",
     "text": [
      "Enter your name:Ashish\n",
      "Hello Ashish!\n"
     ]
    }
   ],
   "source": [
    "name = str(input(\"Enter your name:\"))\n",
    "print(\"Hello\" + \" \" + name + \"!\")"
   ]
  },
  {
   "cell_type": "code",
   "execution_count": 18,
   "metadata": {
    "scrolled": true
   },
   "outputs": [
    {
     "name": "stdout",
     "output_type": "stream",
     "text": [
      "Enter your name: pratham\n",
      "7\n"
     ]
    }
   ],
   "source": [
    "name = str(input(\"Enter your name: \"))\n",
    "length = len(name)\n",
    "print(length)"
   ]
  },
  {
   "cell_type": "code",
   "execution_count": 4,
   "metadata": {},
   "outputs": [
    {
     "name": "stdout",
     "output_type": "stream",
     "text": [
      "Welcome to the band generator!\n",
      "\n",
      "\n",
      "Which city are you from?\n",
      "mumbai\n",
      "\n",
      "\n",
      "What is the name of your pet?\n",
      "dog\n",
      "\n",
      "\n",
      "Band name : mumbai dog\n"
     ]
    }
   ],
   "source": [
    "print(\"Welcome to the band generator!\")\n",
    "print(\"\\n\")\n",
    "\n",
    "place = str(input(\"Which city are you from?\\n\"))\n",
    "print(\"\\n\")\n",
    "\n",
    "pet = str(input(\"What is the name of your pet?\\n\"))\n",
    "print(\"\\n\")\n",
    "\n",
    "print(\"Band name :\", place +\" \"+ pet)\n"
   ]
  },
  {
   "cell_type": "code",
   "execution_count": null,
   "metadata": {},
   "outputs": [],
   "source": [
    "swapping two nu"
   ]
  }
 ],
 "metadata": {
  "kernelspec": {
   "display_name": "Python 3",
   "language": "python",
   "name": "python3"
  },
  "language_info": {
   "codemirror_mode": {
    "name": "ipython",
    "version": 3
   },
   "file_extension": ".py",
   "mimetype": "text/x-python",
   "name": "python",
   "nbconvert_exporter": "python",
   "pygments_lexer": "ipython3",
   "version": "3.8.5"
  }
 },
 "nbformat": 4,
 "nbformat_minor": 4
}
