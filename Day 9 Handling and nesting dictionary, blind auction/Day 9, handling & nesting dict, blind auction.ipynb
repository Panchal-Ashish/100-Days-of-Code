{
 "cells": [
  {
   "cell_type": "markdown",
   "metadata": {},
   "source": [
    "# 1. grading dictionary\n"
   ]
  },
  {
   "cell_type": "code",
   "execution_count": null,
   "metadata": {},
   "outputs": [],
   "source": [
    "student_scores = {\n",
    "  \"Harry\": 81,\n",
    "  \"Ron\": 78,\n",
    "  \"Hermione\": 99, \n",
    "  \"Draco\": 74,\n",
    "  \"Neville\": 62,\n",
    "}\n",
    "# 🚨 Don't change the code above 👆\n",
    "\n",
    "#TODO-1: Create an empty dictionary called student_grades.\n",
    "student_grades = {}\n",
    "\n",
    "#TODO-2: Write your code below to add the grades to student_grades.👇\n",
    "for student in student_scores:\n",
    "\tscore = student_scores[student]\n",
    "\tif score >= 91 and score <= 100:\n",
    "\t\tstudent_grades[student] = \"Outstanding\"\n",
    "\telif score >= 81 and score <= 90 :\n",
    "\t\tstudent_grades[student] = \"Exceeds expectations\"\n",
    "\tif score >= 71 and score <= 80:\n",
    "\t\tstudent_grades[student] = \"Acceptable\"\n",
    "\telif score < 70:\n",
    "\t\tstudent_grades[student] = \"Fail\"\n",
    "    \n",
    "\n",
    "# 🚨 Don't change the code below 👇\n",
    "print(student_grades)\n"
   ]
  },
  {
   "cell_type": "markdown",
   "metadata": {},
   "source": [
    "# Exercise in list and dict nesting"
   ]
  },
  {
   "cell_type": "code",
   "execution_count": 5,
   "metadata": {},
   "outputs": [
    {
     "name": "stdout",
     "output_type": "stream",
     "text": [
      "[{'country': 'France', 'visits': 12, 'cities': ['Paris', 'Lille', 'Dijon']}, {'country': 'Germany', 'visits': 5, 'cities': ['Berlin', 'Hamburg', 'Stuttgart']}, {'country': 'Russia', 'visits': 2, 'cities': ['Moscow', 'Saint Petersburg']}]\n"
     ]
    }
   ],
   "source": [
    "travel_log = [\n",
    "{\n",
    "  \"country\": \"France\",\n",
    "  \"visits\": 12,\n",
    "  \"cities\": [\"Paris\", \"Lille\", \"Dijon\"]\n",
    "},\n",
    "{\n",
    "  \"country\": \"Germany\",\n",
    "  \"visits\": 5,\n",
    "  \"cities\": [\"Berlin\", \"Hamburg\", \"Stuttgart\"]\n",
    "},\n",
    "]\n",
    "#🚨 Do NOT change the code above\n",
    "\n",
    "#TODO: Write the function that will allow new countries\n",
    "#to be added to the travel_log. 👇\n",
    "\n",
    "def add_new_country(country_name, visit_times, cities_visited):\n",
    "    new_country = {}\n",
    "    new_country[\"country\"] = country_name\n",
    "    new_country[\"visits\"] = visit_times\n",
    "    new_country[\"cities\"] = cities_visited\n",
    "#     print(new_country)\n",
    "    travel_log.append(new_country)    # append is only used for adding elements in lists, not dictionaries\n",
    "\n",
    "\n",
    "#🚨 Do not change the code below\n",
    "add_new_country(\"Russia\", 2, [\"Moscow\", \"Saint Petersburg\"])\n",
    "print(travel_log)"
   ]
  },
  {
   "cell_type": "code",
   "execution_count": null,
   "metadata": {},
   "outputs": [],
   "source": []
  },
  {
   "cell_type": "markdown",
   "metadata": {},
   "source": [
    "# Secret Auction"
   ]
  },
  {
   "cell_type": "markdown",
   "metadata": {},
   "source": [
    "Stage 1"
   ]
  },
  {
   "cell_type": "code",
   "execution_count": 4,
   "metadata": {},
   "outputs": [
    {
     "name": "stdout",
     "output_type": "stream",
     "text": [
      "Enter the name of bidder: ash\n",
      "Enter the bid amount: $12\n",
      "Any more bidders? Type 'Y' for yes and 'N' for no y\n",
      "Enter the name of bidder: ash\n",
      "Enter the bid amount: $13\n",
      "Any more bidders? Type 'Y' for yes and 'N' for no n\n",
      "{'ash': 13.0}\n"
     ]
    }
   ],
   "source": [
    "entries = {}\n",
    "repeat = True\n",
    "while repeat == True:\n",
    "    name = input(\"Enter the name of bidder: \")\n",
    "    bid = float(input(\"Enter the bid amount: $\"))\n",
    "    \n",
    "    entries[name] = bid\n",
    "    \n",
    "    more = input(\"Any more bidders? Type 'Y' for yes and 'N' for no \").upper()\n",
    "    if more != \"Y\" and more != \"N\":\n",
    "        print(\"Incorrect input\")\n",
    "    else:\n",
    "        if more == \"Y\":\n",
    "            repeat = True\n",
    "        if more == \"N\":\n",
    "            repeat = False\n",
    "\n",
    "print(entries)"
   ]
  },
  {
   "cell_type": "code",
   "execution_count": null,
   "metadata": {},
   "outputs": [],
   "source": []
  },
  {
   "cell_type": "markdown",
   "metadata": {},
   "source": [
    "stage 2"
   ]
  },
  {
   "cell_type": "code",
   "execution_count": 10,
   "metadata": {},
   "outputs": [
    {
     "name": "stdout",
     "output_type": "stream",
     "text": [
      "\n",
      "                         ___________\n",
      "                         \\         /\n",
      "                          )_______(\n",
      "                          |\"\"\"\"\"\"\"|_.-._,.---------.,_.-._\n",
      "                          |       | | |               | | ''-.\n",
      "                          |       |_| |_             _| |_..-'\n",
      "                          |_______| '-' `'---------'` '-'\n",
      "                          )\"\"\"\"\"\"\"(\n",
      "                         /_________\\\n",
      "                       .-------------.\n",
      "                      /_______________\\\n",
      "\n",
      "Enter the name of bidder: \n",
      "a\n",
      "Enter the bid amount: \n",
      "$12\n",
      "Any more bidders? Type 'Y' for yes and 'N' for no: \n",
      "y\n",
      "Enter the name of bidder: \n",
      "b\n",
      "Enter the bid amount: \n",
      "$13\n",
      "Any more bidders? Type 'Y' for yes and 'N' for no: \n",
      "y\n",
      "Enter the name of bidder: \n",
      "a\n",
      "Enter the bid amount: \n",
      "$14\n",
      "Any more bidders? Type 'Y' for yes and 'N' for no: \n",
      "n\n",
      "winner of auction is b with a bid of $14.0\n",
      "{'a': 14.0, 'b': 13.0}\n"
     ]
    }
   ],
   "source": [
    "# bug 1 :this code produces bug as if you use same name twice ... it replaces the previous one \n",
    "# bug 2 :this code produces a bug if there is a tie in the bidding prices, it delares the latest bidder as winner\n",
    "# bug 3 :\n",
    "logo = '''\n",
    "                         ___________\n",
    "                         \\         /\n",
    "                          )_______(\n",
    "                          |\"\"\"\"\"\"\"|_.-._,.---------.,_.-._\n",
    "                          |       | | |               | | ''-.\n",
    "                          |       |_| |_             _| |_..-'\n",
    "                          |_______| '-' `'---------'` '-'\n",
    "                          )\"\"\"\"\"\"\"(\n",
    "                         /_________\\\\\n",
    "                       .-------------.\n",
    "                      /_______________\\\\\n",
    "'''\n",
    "print(logo)\n",
    "\n",
    "\n",
    "def find_highest_bid(bidding_record):\n",
    "    highest = 0\n",
    "    for bidder in bidding_record:\n",
    "        bid = bidding_record[bidder]\n",
    "        if bid >= highest:\n",
    "            highest = bid\n",
    "            winner = bidder\n",
    "    print(f\"winner of auction is {bidder} with a bid of ${highest}\")\n",
    "\n",
    "\n",
    "entries = {}\n",
    "repeat = True\n",
    "while repeat == True:\n",
    "    name = input(\"Enter the name of bidder: \\n\")\n",
    "    amount = float(input(\"Enter the bid amount: \\n$\"))\n",
    "    \n",
    "    entries[name] = amount\n",
    "\n",
    "    more = input(\"Any more bidders? Type 'Y' for yes and 'N' for no: \\n\").upper()\n",
    "    if more != \"Y\" and more != \"N\":\n",
    "        print(\"Incorrect input. Ending the auction by default\")\n",
    "        find_highest_bid(entries)\n",
    "        repeat = False\n",
    "    else:\n",
    "        if more == \"Y\":\n",
    "            repeat = True\n",
    "        if more == \"N\":\n",
    "            find_highest_bid(entries)\n",
    "            repeat = False\n",
    "\n",
    "print(entries)\n",
    "\n"
   ]
  },
  {
   "cell_type": "code",
   "execution_count": null,
   "metadata": {},
   "outputs": [],
   "source": []
  },
  {
   "cell_type": "markdown",
   "metadata": {},
   "source": [
    "stage 3: bug 1,3 removed... bug 2 still exists"
   ]
  },
  {
   "cell_type": "code",
   "execution_count": 9,
   "metadata": {},
   "outputs": [
    {
     "name": "stdout",
     "output_type": "stream",
     "text": [
      "\n",
      "                         ___________\n",
      "                         \\         /\n",
      "                          )_______(\n",
      "                          |\"\"\"\"\"\"\"|_.-._,.---------.,_.-._\n",
      "                          |       | | |               | | ''-.\n",
      "                          |       |_| |_             _| |_..-'\n",
      "                          |_______| '-' `'---------'` '-'\n",
      "                          )\"\"\"\"\"\"\"(\n",
      "                         /_________\\\n",
      "                       .-------------.\n",
      "                      /_______________\\\n",
      "\n",
      "Enter the name of bidder: \n",
      "a\n",
      "Enter the bid amount: \n",
      "$12\n",
      "Any more bidders? Type 'Y' for yes and 'N' for no: \n",
      "y\n",
      "Enter the name of bidder: \n",
      "b\n",
      "Enter the bid amount: \n",
      "$13\n",
      "Any more bidders? Type 'Y' for yes and 'N' for no: \n",
      "y\n",
      "Enter the name of bidder: \n",
      "a\n",
      "Enter the bid amount: \n",
      "$14\n",
      "Any more bidders? Type 'Y' for yes and 'N' for no: \n",
      "n\n",
      "winner of auction is a with a bid of $14.0\n",
      "[{'name': 'a', 'price': 12.0}, {'name': 'b', 'price': 13.0}, {'name': 'a', 'price': 14.0}]\n"
     ]
    }
   ],
   "source": [
    "# bug 1,3 removed\n",
    "# bug 2 still exists\n",
    "logo = '''\n",
    "                         ___________\n",
    "                         \\         /\n",
    "                          )_______(\n",
    "                          |\"\"\"\"\"\"\"|_.-._,.---------.,_.-._\n",
    "                          |       | | |               | | ''-.\n",
    "                          |       |_| |_             _| |_..-'\n",
    "                          |_______| '-' `'---------'` '-'\n",
    "                          )\"\"\"\"\"\"\"(\n",
    "                         /_________\\\\\n",
    "                       .-------------.\n",
    "                      /_______________\\\\\n",
    "'''\n",
    "print(logo)\n",
    "\n",
    "\n",
    "def find_highest_bid(bidding_record):\n",
    "    highest = 0\n",
    "    for bidder in range(0,len(bidding_record)):\n",
    "        bid = bidding_record[bidder] # accessing that particular dictionary\n",
    "        bid_price = bid[\"price\"] # accessing the price from that dictionary\n",
    "        if bid_price >= highest:\n",
    "            highest = bid_price\n",
    "            winner = bid[\"name\"] # accessing the name from the dictionary\n",
    "    print(f\"winner of auction is {winner} with a bid of ${highest}\")\n",
    "\n",
    "\n",
    "entries = []\n",
    "repeat = True\n",
    "while repeat == True:\n",
    "    name = input(\"Enter the name of bidder: \\n\")\n",
    "    amount = float(input(\"Enter the bid amount: \\n$\"))\n",
    "    \n",
    "    entries.append({\"name\": name, \"price\": amount})\n",
    "\n",
    "    more = input(\"Any more bidders? Type 'Y' for yes and 'N' for no: \\n\").upper()\n",
    "    if more != \"Y\" and more != \"N\":\n",
    "        print(\"Incorrect input. Ending the auction by default\")\n",
    "        find_highest_bid(entries)\n",
    "        repeat = False\n",
    "    else:\n",
    "        if more == \"Y\":\n",
    "            repeat = True\n",
    "\n",
    "        if more == \"N\":\n",
    "            find_highest_bid(entries)\n",
    "            repeat = False\n",
    "\n",
    "print(entries)\n",
    "\n"
   ]
  },
  {
   "cell_type": "code",
   "execution_count": null,
   "metadata": {},
   "outputs": [],
   "source": []
  }
 ],
 "metadata": {
  "kernelspec": {
   "display_name": "Python 3",
   "language": "python",
   "name": "python3"
  },
  "language_info": {
   "codemirror_mode": {
    "name": "ipython",
    "version": 3
   },
   "file_extension": ".py",
   "mimetype": "text/x-python",
   "name": "python",
   "nbconvert_exporter": "python",
   "pygments_lexer": "ipython3",
   "version": "3.8.5"
  }
 },
 "nbformat": 4,
 "nbformat_minor": 4
}
