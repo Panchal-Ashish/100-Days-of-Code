{
 "cells": [
  {
   "cell_type": "markdown",
   "metadata": {},
   "source": [
    "# Reeborg robot hurdle 3\n"
   ]
  },
  {
   "cell_type": "code",
   "execution_count": null,
   "metadata": {},
   "outputs": [],
   "source": [
    "def jump():\n",
    "    turn_left()\n",
    "    move()\n",
    "    turn_right()\n",
    "    move()\n",
    "    turn_right()\n",
    "    move()\n",
    "    turn_left()\n",
    "    \n",
    "while at_goal() == False:      # need not write true or false (i.e. check stmt) as at_goal is a function\n",
    "    \n",
    "    if front_is_clear() == True: #need not write true or false (i.e. check stmt) as check stmt is a function\n",
    "        move()\n",
    "        \n",
    "    if wall_in_front() == True:  #need not write true or false (i.e. check stmt) as check stmt is a function\n",
    "        jump()\n",
    "\n"
   ]
  },
  {
   "cell_type": "code",
   "execution_count": null,
   "metadata": {},
   "outputs": [],
   "source": []
  },
  {
   "cell_type": "markdown",
   "metadata": {},
   "source": [
    "# Reeborg robot hurdle 4\n"
   ]
  },
  {
   "cell_type": "code",
   "execution_count": null,
   "metadata": {},
   "outputs": [],
   "source": [
    "# Method 1\n",
    "def turn_right():\n",
    "    turn_left()\n",
    "    turn_left()\n",
    "    turn_left()\n",
    "    \n",
    "def come_down():\n",
    "    turn_right()\n",
    "    while front_is_clear() == True: #need not write true or false (i.e. check stmt) as check stmt is a function\n",
    "        move()\n",
    "    turn_left()\n",
    "    \n",
    "def jump():\n",
    "    if wall_in_front() == True: #need not write true or false (i.e. check stmt) as check stmt is a function\n",
    "        turn_left()\n",
    "        while wall_on_right() == True: #need not write true or false (i.e. check stmt) as check stmt is a function\n",
    "            move()\n",
    "        if wall_on_right() == False: #need not write true or false (i.e. check stmt) as check stmt is a function\n",
    "            turn_right()\n",
    "            move()\n",
    "            come_down()\n",
    "        \n",
    "   \n",
    "while at_goal() == False: #need not write true or false (i.e. check stmt) as check stmt is a function\n",
    "    if front_is_clear() == True: #need not write true or false (i.e. check stmt) as check stmt is a function\n",
    "        move()\n",
    "    if front_is_clear() == False: #need not write true or false (i.e. check stmt) as check stmt is a function\n",
    "        jump()\n",
    "\n",
    "        \n",
    "        \n",
    "        \n",
    "        \n",
    "# # Method 2\n",
    "# def turn_right():\n",
    "#     turn_left()\n",
    "#     turn_left()\n",
    "#     turn_left()\n",
    "    \n",
    "# def jump():\n",
    "#     turn_left()\n",
    "#     while wall_on_right():\n",
    "#         move()\n",
    "#     turn_right()\n",
    "#     move()\n",
    "#     turn_right()\n",
    "#     while front_is_clear():\n",
    "#         move()\n",
    "#     turn_left()\n",
    "\n",
    "# while at_goal() == False:\n",
    "#     if front_is_clear() == True:\n",
    "#         move()\n",
    "#     if front_is_clear() == False:\n",
    "#         jump()\n",
    "\n",
    "    \n",
    "    "
   ]
  },
  {
   "cell_type": "markdown",
   "metadata": {},
   "source": [
    "#  Reeborg robot Maze (Hard debugging skills)"
   ]
  },
  {
   "cell_type": "code",
   "execution_count": null,
   "metadata": {},
   "outputs": [],
   "source": [
    "def turn_right():\n",
    "    turn_left()\n",
    "    turn_left()\n",
    "    turn_left()\n",
    "# to prevent infinite loop which may occur \n",
    "while front_is_clear():  \n",
    "    move()\n",
    "turn_left() \n",
    "while not at_goal():\n",
    "    if right_is_clear():\n",
    "        turn_right()\n",
    "        move()\n",
    "    elif front_is_clear():\n",
    "        move()\n",
    "    else:\n",
    "        turn_left()\n",
    "           "
   ]
  },
  {
   "cell_type": "code",
   "execution_count": null,
   "metadata": {},
   "outputs": [],
   "source": []
  },
  {
   "cell_type": "code",
   "execution_count": null,
   "metadata": {},
   "outputs": [],
   "source": []
  },
  {
   "cell_type": "code",
   "execution_count": null,
   "metadata": {},
   "outputs": [],
   "source": []
  },
  {
   "cell_type": "code",
   "execution_count": null,
   "metadata": {},
   "outputs": [],
   "source": []
  },
  {
   "cell_type": "code",
   "execution_count": null,
   "metadata": {},
   "outputs": [],
   "source": []
  },
  {
   "cell_type": "code",
   "execution_count": null,
   "metadata": {},
   "outputs": [],
   "source": []
  },
  {
   "cell_type": "code",
   "execution_count": null,
   "metadata": {},
   "outputs": [],
   "source": []
  },
  {
   "cell_type": "code",
   "execution_count": null,
   "metadata": {},
   "outputs": [],
   "source": []
  },
  {
   "cell_type": "code",
   "execution_count": null,
   "metadata": {},
   "outputs": [],
   "source": []
  },
  {
   "cell_type": "code",
   "execution_count": null,
   "metadata": {},
   "outputs": [],
   "source": []
  },
  {
   "cell_type": "code",
   "execution_count": null,
   "metadata": {},
   "outputs": [],
   "source": []
  },
  {
   "cell_type": "code",
   "execution_count": null,
   "metadata": {},
   "outputs": [],
   "source": []
  },
  {
   "cell_type": "code",
   "execution_count": null,
   "metadata": {},
   "outputs": [],
   "source": []
  },
  {
   "cell_type": "code",
   "execution_count": null,
   "metadata": {},
   "outputs": [],
   "source": []
  }
 ],
 "metadata": {
  "kernelspec": {
   "display_name": "Python 3",
   "language": "python",
   "name": "python3"
  },
  "language_info": {
   "codemirror_mode": {
    "name": "ipython",
    "version": 3
   },
   "file_extension": ".py",
   "mimetype": "text/x-python",
   "name": "python",
   "nbconvert_exporter": "python",
   "pygments_lexer": "ipython3",
   "version": "3.8.5"
  }
 },
 "nbformat": 4,
 "nbformat_minor": 4
}
