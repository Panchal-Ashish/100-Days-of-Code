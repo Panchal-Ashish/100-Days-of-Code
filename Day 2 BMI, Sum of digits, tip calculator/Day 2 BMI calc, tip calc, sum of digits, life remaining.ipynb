{
 "cells": [
  {
   "cell_type": "markdown",
   "metadata": {},
   "source": [
    "# to find number of characters in a name"
   ]
  },
  {
   "cell_type": "code",
   "execution_count": 3,
   "metadata": {},
   "outputs": [
    {
     "name": "stdout",
     "output_type": "stream",
     "text": [
      "What is your name?\n",
      "ashish\n"
     ]
    },
    {
     "ename": "TypeError",
     "evalue": "can only concatenate str (not \"int\") to str",
     "output_type": "error",
     "traceback": [
      "\u001b[1;31m---------------------------------------------------------------------------\u001b[0m",
      "\u001b[1;31mTypeError\u001b[0m                                 Traceback (most recent call last)",
      "\u001b[1;32m<ipython-input-3-f9fe9b26fe7c>\u001b[0m in \u001b[0;36m<module>\u001b[1;34m\u001b[0m\n\u001b[0;32m      1\u001b[0m \u001b[0mname\u001b[0m \u001b[1;33m=\u001b[0m \u001b[0minput\u001b[0m\u001b[1;33m(\u001b[0m\u001b[1;34m\"What is your name?\\n\"\u001b[0m\u001b[1;33m)\u001b[0m\u001b[1;33m\u001b[0m\u001b[1;33m\u001b[0m\u001b[0m\n\u001b[0;32m      2\u001b[0m \u001b[0mnum_char\u001b[0m \u001b[1;33m=\u001b[0m \u001b[0mlen\u001b[0m\u001b[1;33m(\u001b[0m\u001b[0mname\u001b[0m\u001b[1;33m)\u001b[0m\u001b[1;33m\u001b[0m\u001b[1;33m\u001b[0m\u001b[0m\n\u001b[1;32m----> 3\u001b[1;33m \u001b[0mprint\u001b[0m\u001b[1;33m(\u001b[0m\u001b[1;34m\"Your name has \"\u001b[0m\u001b[1;33m+\u001b[0m \u001b[0mnum_char\u001b[0m \u001b[1;33m+\u001b[0m\u001b[1;34m\"characters\"\u001b[0m\u001b[1;33m)\u001b[0m\u001b[1;33m\u001b[0m\u001b[1;33m\u001b[0m\u001b[0m\n\u001b[0m",
      "\u001b[1;31mTypeError\u001b[0m: can only concatenate str (not \"int\") to str"
     ]
    }
   ],
   "source": [
    "name = input(\"What is your name?\\n\")\n",
    "num_char = len(name)  # stores as integer\n",
    "print(\"Your name has \"+ num_char +\"characters\")\n",
    "\n",
    "# this shows error as we cannot concatenate string and integer"
   ]
  },
  {
   "cell_type": "code",
   "execution_count": 21,
   "metadata": {},
   "outputs": [
    {
     "name": "stdout",
     "output_type": "stream",
     "text": [
      "What is your name?\n",
      "ashish\n",
      "Your name has 6 characters\n"
     ]
    }
   ],
   "source": [
    "# METHOD 1\n",
    "name = input(\"What is your name?\\n\")\n",
    "num_char = len(name)\n",
    "print(\"Your name has %d characters\" %(num_char))"
   ]
  },
  {
   "cell_type": "code",
   "execution_count": 11,
   "metadata": {},
   "outputs": [
    {
     "name": "stdout",
     "output_type": "stream",
     "text": [
      "What is your name?\n",
      "Ashish\n",
      "Your name has 6 characters\n"
     ]
    }
   ],
   "source": [
    "# METHOD 2 \n",
    "name = input(\"What is your name?\\n\")\n",
    "num_char = str(len(name))  # converting to data type string   # Typecasting\n",
    "print(\"Your name has \"+ num_char +\" characters\")"
   ]
  },
  {
   "cell_type": "code",
   "execution_count": null,
   "metadata": {},
   "outputs": [],
   "source": []
  },
  {
   "cell_type": "code",
   "execution_count": null,
   "metadata": {},
   "outputs": [],
   "source": []
  },
  {
   "cell_type": "markdown",
   "metadata": {},
   "source": [
    "# to find sum of digits in a number"
   ]
  },
  {
   "cell_type": "code",
   "execution_count": 20,
   "metadata": {},
   "outputs": [
    {
     "name": "stdout",
     "output_type": "stream",
     "text": [
      "Enter two digit number: 89\n",
      "<class 'str'>\n",
      "17\n"
     ]
    }
   ],
   "source": [
    "number = input(\"Enter two digit number: \") \n",
    "print(type(number)) \n",
    "# note: direct indexing of integers is not possible... \n",
    " #so we have to take input as string for indexing\n",
    "\n",
    "# # METHOD 1   \n",
    "a = number[0] #\n",
    "b = number[1] #\n",
    "\n",
    "# # above does not give desired results as it stores as a string and later concatenates the string\n",
    "# # which in turn returns the original number\n",
    "sum = int(a) + int(b) # \n",
    "# # however can be solved using the above formula where a and b are converted to integer before adding\n",
    "\n",
    "# # METHOD 2\n",
    "# a = int(number[0]) #\n",
    "# b = int(number[1]) #\n",
    "# # (a,b) string is converted to integer before itself for addition purposes\n",
    "# sum = a + b #\n",
    "\n",
    "\n",
    "print(sum)"
   ]
  },
  {
   "cell_type": "code",
   "execution_count": null,
   "metadata": {},
   "outputs": [],
   "source": []
  },
  {
   "cell_type": "markdown",
   "metadata": {},
   "source": [
    "# BMI CALCULATOR"
   ]
  },
  {
   "cell_type": "code",
   "execution_count": 49,
   "metadata": {},
   "outputs": [
    {
     "name": "stdout",
     "output_type": "stream",
     "text": [
      "Enter your height in metres: 1.68\n",
      "Enter your weight in kilograms: 58\n",
      "Your BMI is  20.5499\n",
      "You are normal!\n"
     ]
    }
   ],
   "source": [
    "\n",
    "h = float(input(\"Enter your height in metres: \"))\n",
    "w = float(input(\"Enter your weight in kilograms: \"))\n",
    "\n",
    "BMI = round(w/h**2,4)\n",
    "print(\"Your BMI is \", BMI)\n",
    "\n",
    "if (BMI<18.5):\n",
    "    print(\"You are underweight!\")\n",
    "elif (18.5<BMI<25):\n",
    "    print(\"You are normal!\")\n",
    "elif (25<BMI<30):\n",
    "    print(\"You are overweight!\")\n",
    "elif BMI>30:\n",
    "    print(\"You are Obese!!!\")"
   ]
  },
  {
   "cell_type": "code",
   "execution_count": null,
   "metadata": {},
   "outputs": [],
   "source": []
  },
  {
   "cell_type": "code",
   "execution_count": null,
   "metadata": {},
   "outputs": [],
   "source": []
  },
  {
   "cell_type": "markdown",
   "metadata": {},
   "source": [
    "# To find no. of days,weeks,months left (assuming you live 90 yrs)"
   ]
  },
  {
   "cell_type": "code",
   "execution_count": 54,
   "metadata": {},
   "outputs": [
    {
     "name": "stdout",
     "output_type": "stream",
     "text": [
      "Enter your current age : 21\n",
      "Upto what age do you want to live? 25\n",
      "you have 4 years remaining, 48 months remaining, 208 weeks remaiming,1460 days remaiming\n"
     ]
    }
   ],
   "source": [
    "age = int(input(\"Enter your current age : \"))\n",
    "desire = int(input(\"Upto what age do you want to live? \"))\n",
    "\n",
    "years_remaining = desire - age\n",
    "months_remaining = years_remaining * 12\n",
    "weeks_remaining = years_remaining * 52\n",
    "days_remaining = years_remaining * 365\n",
    "\n",
    "message = f\"you have {years_remaining} years remaining, {months_remaining} months remaining, {weeks_remaining} weeks remaiming,{days_remaining} days remaiming\"\n",
    "print(message)"
   ]
  },
  {
   "cell_type": "code",
   "execution_count": null,
   "metadata": {},
   "outputs": [],
   "source": []
  },
  {
   "cell_type": "markdown",
   "metadata": {},
   "source": [
    "# Tip calculator"
   ]
  },
  {
   "cell_type": "code",
   "execution_count": 61,
   "metadata": {},
   "outputs": [
    {
     "name": "stdout",
     "output_type": "stream",
     "text": [
      "Welcome to tip calculator!\n",
      "What was the total bill? \n",
      " Rs.500\n",
      "What percentage tip would you like to give? \n",
      "5\n",
      "how many people to split the bill? \n",
      "5\n",
      "You are paying a tip of Rs. 25.0\n",
      "\n",
      "\n",
      "You are paying a grand total (including tip) of Rs. 525.0\n",
      "\n",
      "\n",
      "Each person will have to pay Rs.105 \n"
     ]
    }
   ],
   "source": [
    "print(\"Welcome to tip calculator!\")\n",
    "bill = float(input(\"What was the total bill? \\n Rs.\" ))\n",
    "percent = float(input(\"What percentage tip would you like to give? \\n\"))\n",
    "people = int(input(\"how many people to split the bill? \\n\"))\n",
    "\n",
    "tip = (percent/100)*bill\n",
    "total = bill + tip\n",
    "per_person = round(total/people,2)\n",
    "\n",
    "\n",
    "print(\"You are paying a tip of Rs.\",tip)\n",
    "print(\"\\n\")\n",
    "print(\"You are paying a grand total (including tip) of Rs.\",total)\n",
    "print(\"\\n\")\n",
    "print(\"Each person will have to pay Rs.%d \"%per_person)"
   ]
  }
 ],
 "metadata": {
  "kernelspec": {
   "display_name": "Python 3",
   "language": "python",
   "name": "python3"
  },
  "language_info": {
   "codemirror_mode": {
    "name": "ipython",
    "version": 3
   },
   "file_extension": ".py",
   "mimetype": "text/x-python",
   "name": "python",
   "nbconvert_exporter": "python",
   "pygments_lexer": "ipython3",
   "version": "3.8.5"
  }
 },
 "nbformat": 4,
 "nbformat_minor": 4
}
