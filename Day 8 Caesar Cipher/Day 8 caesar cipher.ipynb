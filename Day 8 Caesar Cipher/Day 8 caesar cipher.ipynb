{
 "cells": [
  {
   "cell_type": "raw",
   "metadata": {},
   "source": [
    "paint area and cans calc"
   ]
  },
  {
   "cell_type": "code",
   "execution_count": 1,
   "metadata": {},
   "outputs": [
    {
     "name": "stdout",
     "output_type": "stream",
     "text": [
      "Height of wall: 57.8\n",
      "Width of wall: 45\n",
      "520.2\n",
      "number of cans reqd are:  521\n"
     ]
    }
   ],
   "source": [
    "#Write your code below this line 👇\n",
    "import math\n",
    "def paint_calc(height,width,cover):\n",
    "\tnum = round(height * width / cover , 3)\n",
    "\tprint(num)\n",
    "\tprint(\"number of cans reqd are: \", math.ceil(num) )\n",
    "\n",
    "# math.ceil(num) ..... round off to the next number\n",
    "\n",
    "\n",
    "#Write your code above this line 👆\n",
    "# Define a function called paint_calc() so that the code below works.   \n",
    "\n",
    "# 🚨 Don't change the code below 👇\n",
    "test_h =float(input(\"Height of wall: \"))\n",
    "test_w = float(input(\"Width of wall: \"))\n",
    "coverage = 5\n",
    "paint_calc(height=test_h, width=test_w, cover=coverage)\n",
    "\n",
    "\n"
   ]
  },
  {
   "cell_type": "raw",
   "metadata": {},
   "source": [
    "prime number checker"
   ]
  },
  {
   "cell_type": "code",
   "execution_count": 4,
   "metadata": {},
   "outputs": [
    {
     "name": "stdout",
     "output_type": "stream",
     "text": [
      "Check this number: 98\n",
      "Its not a prime number\n"
     ]
    }
   ],
   "source": [
    "#Write your code below this line 👇\n",
    "\n",
    "def prime_checker(number):\n",
    "\tif number == 2:\n",
    "\t\tprint(\"2 is a prime number\")\n",
    "\t\n",
    "\tis_prime = True\n",
    "\tfor x in range(2,number):\n",
    "\t\t\n",
    "\t\tif number % x == 0:\n",
    "\t\t\tis_prime = False\n",
    "\n",
    "\tif is_prime == True:\n",
    "\t\tprint(\"Its a prime number\")\n",
    "\tif is_prime == False:\n",
    "\t\tprint(\"Its not a prime number\")\n",
    "\n",
    "#Write your code above this line 👆\n",
    "    \n",
    "#Do NOT change any of the code below👇\n",
    "n = int(input(\"Check this number: \"))\n",
    "prime_checker(number=n)\n",
    "\n",
    "\n",
    "\n"
   ]
  },
  {
   "cell_type": "markdown",
   "metadata": {},
   "source": [
    "# CAESAR CIPHER"
   ]
  },
  {
   "cell_type": "markdown",
   "metadata": {},
   "source": [
    "Stage 1... Encode"
   ]
  },
  {
   "cell_type": "code",
   "execution_count": 13,
   "metadata": {},
   "outputs": [
    {
     "name": "stdout",
     "output_type": "stream",
     "text": [
      "Type 'encode' to encrypt, type 'decode' to decrypt:\n",
      "encode\n",
      "Type your message:\n",
      "hello\n",
      "Type the shift number:\n",
      "5\n",
      "The encoded text is: mjqqt\n"
     ]
    }
   ],
   "source": [
    "alphabet = ['a', 'b', 'c', 'd', 'e', 'f', 'g', 'h', 'i', 'j', 'k', 'l', 'm', 'n', 'o', \n",
    "            'p', 'q', 'r', 's', 't', 'u', 'v', 'w', 'x', 'y', 'z',\n",
    "            'a', 'b', 'c', 'd', 'e', 'f', 'g', 'h', 'i', 'j', 'k', 'l', 'm', 'n', 'o', \n",
    "            'p', 'q', 'r', 's', 't', 'u', 'v', 'w', 'x', 'y', 'z']\n",
    "\n",
    "# the whole list is copied twice...suppose we have a letter towards end (like z).... \n",
    "# so while adding (shifting) index... we continue ahead and don't get index err\n",
    "\n",
    "\n",
    "direction = input(\"Type 'encode' to encrypt, type 'decode' to decrypt:\\n\").lower()\n",
    "text = input(\"Type your message:\\n\").lower()\n",
    "shift = int(input(\"Type the shift number:\\n\"))\n",
    "\n",
    "#TODO-1: Create a function called 'encrypt' that takes the 'text' and 'shift' as inputs.\n",
    "def encrypt(plain_text, shift_amount):\n",
    "\n",
    "    #TODO-2: Inside the 'encrypt' function, shift each letter of the 'text' forwards in the alphabet by the shift amount and print the encrypted text.  \n",
    "    caesar_text = \"\"\n",
    "    for letter in plain_text:\n",
    "        position = alphabet.index(letter)    # returns index of first instance (only) of letter from the list.\n",
    "        new_position = position + shift_amount\n",
    "        new_letter = alphabet[new_position]\n",
    "        caesar_text += new_letter\n",
    "    print(f\"The encoded text is: {caesar_text}\")\n",
    "    #e.g. \n",
    "    #plain_text = \"hello\"\n",
    "    #shift = 5\n",
    "    #cipher_text = \"mjqqt\"\n",
    "    #print output: \"The encoded text is mjqqt\"\n",
    "\n",
    "    ##HINT: How do you get the index of an item in a list:\n",
    "    #https://stackoverflow.com/questions/176918/finding-the-index-of-an-item-in-a-list\n",
    "    \n",
    "if direction == \"encode\":\n",
    "    encrypt(plain_text = text, shift_amount = shift)"
   ]
  },
  {
   "cell_type": "code",
   "execution_count": null,
   "metadata": {},
   "outputs": [],
   "source": []
  },
  {
   "cell_type": "markdown",
   "metadata": {},
   "source": [
    "stage 2... Decode"
   ]
  },
  {
   "cell_type": "code",
   "execution_count": 12,
   "metadata": {},
   "outputs": [
    {
     "name": "stdout",
     "output_type": "stream",
     "text": [
      "Type 'encode' to encrypt, type 'decode' to decrypt:\n",
      "decode\n",
      "Type your message:\n",
      "mjqqt\n",
      "Type the shift number:\n",
      "5\n",
      "Your decoded text is: hello\n"
     ]
    }
   ],
   "source": [
    "alphabet = ['a', 'b', 'c', 'd', 'e', 'f', 'g', 'h', 'i', 'j', 'k', 'l', 'm', 'n', 'o', \n",
    "            'p', 'q', 'r', 's', 't', 'u', 'v', 'w', 'x', 'y', 'z',\n",
    "            'a', 'b', 'c', 'd', 'e', 'f', 'g', 'h', 'i', 'j', 'k', 'l', 'm', 'n', 'o', \n",
    "            'p', 'q', 'r', 's', 't', 'u', 'v', 'w', 'x', 'y', 'z']\n",
    "\n",
    "\n",
    "direction = input(\"Type 'encode' to encrypt, type 'decode' to decrypt:\\n\").lower()\n",
    "text = input(\"Type your message:\\n\").lower()\n",
    "shift = int(input(\"Type the shift number:\\n\"))\n",
    "\n",
    "def encrypt(plain_text, shift_amount):\n",
    "    caesar_text = \"\"\n",
    "    for letter in plain_text:\n",
    "        position = alphabet.index(letter)\n",
    "        new_position = position + shift_amount\n",
    "        caesar_text += alphabet[new_position]\n",
    "    print(f\"The encoded text is {caesar_text}\")\n",
    "\n",
    "#TODO-1: Create a different function called 'decrypt' that takes the 'text' and 'shift' as inputs.\n",
    "def decrypt(plain_text,shift_amount):\n",
    "    cipher_text = \"\"\n",
    "    \n",
    "    #TODO-2: Inside the 'decrypt' function, shift each letter of the 'text' *backwards* in the alphabet by the shift amount and print the decrypted text.  \n",
    "    for letter in plain_text:\n",
    "        position = alphabet.index(letter)\n",
    "        new_position = position - shift_amount\n",
    "        cipher_text = cipher_text + alphabet[new_position]\n",
    "    print(f\"Your decoded text is: {cipher_text}\")\n",
    "    #e.g. \n",
    "    #cipher_text = \"mjqqt\"\n",
    "    #shift = 5\n",
    "    #plain_text = \"hello\"\n",
    "    #print output: \"The decoded text is hello\"\n",
    "\n",
    "\n",
    "#TODO-3: Check if the user wanted to encrypt or decrypt the message by checking the 'direction' variable. Then call the correct function based on that 'drection' variable. You should be able to test the code to encrypt *AND* decrypt a message.\n",
    "if direction == \"encode\":\n",
    "    encrypt(plain_text = text, shift_amount = shift)\n",
    "elif direction == \"decode\":\n",
    "    decrypt(plain_text = text, shift_amount = shift)\n",
    "else:\n",
    "    print(\"incorrect input\")"
   ]
  },
  {
   "cell_type": "code",
   "execution_count": null,
   "metadata": {},
   "outputs": [],
   "source": []
  },
  {
   "cell_type": "markdown",
   "metadata": {},
   "source": [
    "stage 3... combining both functions"
   ]
  },
  {
   "cell_type": "code",
   "execution_count": null,
   "metadata": {},
   "outputs": [],
   "source": [
    "alphabet = ['a', 'b', 'c', 'd', 'e', 'f', 'g', 'h', 'i', 'j', 'k', 'l', 'm', 'n', 'o', \n",
    "            'p', 'q', 'r', 's', 't', 'u', 'v', 'w', 'x', 'y', 'z',\n",
    "            'a', 'b', 'c', 'd', 'e', 'f', 'g', 'h', 'i', 'j', 'k', 'l', 'm', 'n', 'o', \n",
    "            'p', 'q', 'r', 's', 't', 'u', 'v', 'w', 'x', 'y', 'z']\n",
    "\n",
    "\n",
    "direction = input(\"Type 'encode' to encrypt, type 'decode' to decrypt:\\n\").lower()\n",
    "text = input(\"Type your message:\\n\").lower()\n",
    "shift = int(input(\"Type the shift number:\\n\"))\n",
    "\n",
    "def caesar_cipher(plain_text, shift_amount,encode_decode_direction):\n",
    "    end_text = \"\"\n",
    "    if encode_decode_direction != \"encode\" and encode_decode_direction != \"decode\":\n",
    "        print(\"incorrect input. choose either encode or decode.\")\n",
    "    else:\n",
    "        for letter in plain_text:\n",
    "            position = alphabet.index(letter)\n",
    "            if encode_decode_direction == \"encode\":\n",
    "                new_position = position + shift_amount\n",
    "                end_text += alphabet[new_position]\n",
    "            if encode_decode_direction == \"decode\":\n",
    "                new_position = position - shift_amount\n",
    "                end_text = end_text + alphabet[new_position]\n",
    "        print(f\"your {encode_decode_direction}d text is: {end_text}\")\n",
    "\n",
    "\n",
    "    \n",
    "caesar_cipher(plain_text = text, shift_amount = shift,encode_decode_direction = direction)"
   ]
  },
  {
   "cell_type": "code",
   "execution_count": null,
   "metadata": {},
   "outputs": [],
   "source": []
  },
  {
   "cell_type": "markdown",
   "metadata": {},
   "source": [
    "stage 4.... improving user experience"
   ]
  },
  {
   "cell_type": "code",
   "execution_count": 1,
   "metadata": {},
   "outputs": [],
   "source": [
    "logo = \"\"\"           \n",
    " ,adPPYba, ,adPPYYba,  ,adPPYba, ,adPPYba, ,adPPYYba, 8b,dPPYba,  \n",
    "a8\"     \"\" \"\"     `Y8 a8P_____88 I8[    \"\" \"\"     `Y8 88P'   \"Y8  \n",
    "8b         ,adPPPPP88 8PP\"\"\"\"\"\"\"  `\"Y8ba,  ,adPPPPP88 88          \n",
    "\"8a,   ,aa 88,    ,88 \"8b,   ,aa aa    ]8I 88,    ,88 88          \n",
    " `\"Ybbd8\"' `\"8bbdP\"Y8  `\"Ybbd8\"' `\"YbbdP\"' `\"8bbdP\"Y8 88   \n",
    "            88             88                                 \n",
    "           \"\"             88                                 \n",
    "                          88                                 \n",
    " ,adPPYba, 88 8b,dPPYba,  88,dPPYba,   ,adPPYba, 8b,dPPYba,  \n",
    "a8\"     \"\" 88 88P'    \"8a 88P'    \"8a a8P_____88 88P'   \"Y8  \n",
    "8b         88 88       d8 88       88 8PP\"\"\"\"\"\"\" 88          \n",
    "\"8a,   ,aa 88 88b,   ,a8\" 88       88 \"8b,   ,aa 88          \n",
    " `\"Ybbd8\"' 88 88`YbbdP\"'  88       88  `\"Ybbd8\"' 88          \n",
    "              88                                             \n",
    "              88           \n",
    "\"\"\""
   ]
  },
  {
   "cell_type": "code",
   "execution_count": 2,
   "metadata": {},
   "outputs": [],
   "source": [
    "#TODO-1: Import and print the logo from art.py when the program starts.\n",
    "\n",
    "#TODO-2: What if the user enters a shift that is greater than the number of letters in the alphabet?\n",
    "#Try running the program and entering a shift number of 45.\n",
    "#Add some code so that the program continues to work even if the user enters a shift number greater than 26. \n",
    "#Hint: Think about how you can use the modulus (%).\n",
    "\n",
    "#TODO-3: What happens if the user enters a number/symbol/space?\n",
    "    #Can you fix the code to keep the number/symbol/space when the text is encoded/decoded?\n",
    "    #e.g. start_text = \"meet me at 3\"\n",
    "    #end_text = \"•••• •• •• 3\"\n",
    "    \n",
    "#TODO-4: Can you figure out a way to ask the user if they want to restart the cipher program?\n",
    "#e.g. Type 'yes' if you want to go again. Otherwise type 'no'.\n",
    "#If they type 'yes' then ask them for the direction/text/shift again and call the caesar() function again?\n",
    "#Hint: Try creating a while loop that continues to execute the program if the user types 'yes'. \n",
    "\n",
    "\n"
   ]
  },
  {
   "cell_type": "code",
   "execution_count": 31,
   "metadata": {
    "scrolled": false
   },
   "outputs": [
    {
     "name": "stdout",
     "output_type": "stream",
     "text": [
      "           \n",
      " ,adPPYba, ,adPPYYba,  ,adPPYba, ,adPPYba, ,adPPYYba, 8b,dPPYba,  \n",
      "a8\"     \"\" \"\"     `Y8 a8P_____88 I8[    \"\" \"\"     `Y8 88P'   \"Y8  \n",
      "8b         ,adPPPPP88 8PP\"  `\"Y8ba,  ,adPPPPP88 88          \n",
      "\"8a,   ,aa 88,    ,88 \"8b,   ,aa aa    ]8I 88,    ,88 88          \n",
      " `\"Ybbd8\"' `\"8bbdP\"Y8  `\"Ybbd8\"' `\"YbbdP\"' `\"8bbdP\"Y8 88   \n",
      "            88             88                                 \n",
      "           \"\"             88                                 \n",
      "                          88                                 \n",
      " ,adPPYba, 88 8b,dPPYba,  88,dPPYba,   ,adPPYba, 8b,dPPYba,  \n",
      "a8\"     \"\" 88 88P'    \"8a 88P'    \"8a a8P_____88 88P'   \"Y8  \n",
      "8b         88 88       d8 88       88 8PP\" 88          \n",
      "\"8a,   ,aa 88 88b,   ,a8\" 88       88 \"8b,   ,aa 88          \n",
      " `\"Ybbd8\"' 88 88`YbbdP\"'  88       88  `\"Ybbd8\"' 88          \n",
      "              88                                             \n",
      "              88           \n",
      "\n",
      "Type 'encode' to encrypt, type 'decode' to decrypt:\n",
      "encode\n",
      "Type your message:\n",
      "hello prATHAM\n",
      "Type the shift number:\n",
      "7\n",
      "your encoded text is: olssv wyhaoht\n",
      "Do you want to continue? type 'Y' for Yes and 'N'for No :y\n",
      "Type 'encode' to encrypt, type 'decode' to decrypt:\n",
      "decode\n",
      "Type your message:\n",
      "olssv wyhaoht\n",
      "Type the shift number:\n",
      "7\n",
      "your decoded text is: hello pratham\n",
      "Do you want to continue? type 'Y' for Yes and 'N'for No :n\n",
      "Good bye. Have a nice day\n"
     ]
    }
   ],
   "source": [
    "alphabet = ['a', 'b', 'c', 'd', 'e', 'f', 'g', 'h', 'i', 'j', 'k', 'l', 'm', 'n', 'o', \n",
    "            'p', 'q', 'r', 's', 't', 'u', 'v', 'w', 'x', 'y', 'z',\n",
    "            'a', 'b', 'c', 'd', 'e', 'f', 'g', 'h', 'i', 'j', 'k', 'l', 'm', 'n', 'o', \n",
    "            'p', 'q', 'r', 's', 't', 'u', 'v', 'w', 'x', 'y', 'z']\n",
    "\n",
    "\n",
    "def caesar_cipher(plain_text, shift_amount ,encode_decode_direction):\n",
    "    end_text = \"\"\n",
    "    # TODO 2 Method 1 (prefer)... if shift is more than total alphabets, we continue\n",
    "    # using %, we can go ahead by the amount after a particular alphabet cycle is finished\n",
    "    shift_amount = shift_amount % 26  \n",
    "\n",
    "    if encode_decode_direction != \"encode\" and encode_decode_direction != \"decode\":\n",
    "        print(\"incorrect input. choose either encode or decode.\")\n",
    "#       # TODO 2 Method 2 (avoid)... where if shift is more than total alphabets, we show error\n",
    "#         if shift >= (len(alphabet) / 2):\n",
    "#             print(f\"incorrect input for shift. Enter a shift between 0 and {len(alphabet) / 2}\")\n",
    "    else:\n",
    "        for letter in plain_text:\n",
    "            if letter in alphabet:    # TODO 3: part 1\n",
    "                position = alphabet.index(letter)\n",
    "                if encode_decode_direction == \"encode\":\n",
    "                    new_position = position + shift_amount\n",
    "                    end_text += alphabet[new_position]\n",
    "                if encode_decode_direction == \"decode\":\n",
    "                    new_position = position - shift_amount\n",
    "                    end_text = end_text + alphabet[new_position]\n",
    "            else:    # TODO 3: part 2 \n",
    "                end_text = end_text + letter\n",
    "\n",
    "        print(f\"your {encode_decode_direction}d text is: {end_text}\")\n",
    "\n",
    "             \n",
    "print(logo)   # TODO 1\n",
    "repeat = True\n",
    "while repeat == True:\n",
    "    direction = input(\"Type 'encode' to encrypt, type 'decode' to decrypt:\\n\").lower()\n",
    "    text = input(\"Type your message:\\n\").lower()\n",
    "    shift = int(input(\"Type the shift number:\\n\"))\n",
    "    \n",
    "    \n",
    "    caesar_cipher(plain_text = text, shift_amount = shift,encode_decode_direction = direction)\n",
    "    rep = input(\"Do you want to continue? type 'Y' for Yes and 'N'for No :\").upper()\n",
    "\n",
    "    if rep == \"Y\":\n",
    "        repeat = True\n",
    "    if rep == \"N\":\n",
    "        repeat = False\n",
    "        print(\"Good bye. Have a nice day\")\n",
    "\n",
    "\n",
    "# Alternative for TODO :3\n",
    "    # add all symbols and characters to alphabet list and the you can skip if - else stmts. "
   ]
  },
  {
   "cell_type": "code",
   "execution_count": null,
   "metadata": {},
   "outputs": [],
   "source": []
  },
  {
   "cell_type": "code",
   "execution_count": null,
   "metadata": {},
   "outputs": [],
   "source": []
  },
  {
   "cell_type": "markdown",
   "metadata": {},
   "source": [
    "# CAESAR CIPHER FINAL"
   ]
  },
  {
   "cell_type": "code",
   "execution_count": null,
   "metadata": {},
   "outputs": [
    {
     "name": "stdout",
     "output_type": "stream",
     "text": [
      "           \n",
      " ,adPPYba, ,adPPYYba,  ,adPPYba, ,adPPYba, ,adPPYYba, 8b,dPPYba,  \n",
      "a8\"     \"\" \"\"     `Y8 a8P_____88 I8[    \"\" \"\"     `Y8 88P'   \"Y8  \n",
      "8b         ,adPPPPP88 8PP\"  `\"Y8ba,  ,adPPPPP88 88          \n",
      "\"8a,   ,aa 88,    ,88 \"8b,   ,aa aa    ]8I 88,    ,88 88          \n",
      " `\"Ybbd8\"' `\"8bbdP\"Y8  `\"Ybbd8\"' `\"YbbdP\"' `\"8bbdP\"Y8 88   \n",
      "            88             88                                 \n",
      "           \"\"             88                                 \n",
      "                          88                                 \n",
      " ,adPPYba, 88 8b,dPPYba,  88,dPPYba,   ,adPPYba, 8b,dPPYba,  \n",
      "a8\"     \"\" 88 88P'    \"8a 88P'    \"8a a8P_____88 88P'   \"Y8  \n",
      "8b         88 88       d8 88       88 8PP\" 88          \n",
      "\"8a,   ,aa 88 88b,   ,a8\" 88       88 \"8b,   ,aa 88          \n",
      " `\"Ybbd8\"' 88 88`YbbdP\"'  88       88  `\"Ybbd8\"' 88          \n",
      "              88                                             \n",
      "              88           \n",
      "\n",
      "Type 'encode' to encrypt, type 'decode' to decrypt:\n",
      "encode\n",
      "Type your message:\n",
      "aditi is very mischievious child\n",
      "Type the shift number:\n",
      "9\n",
      "your encoded text is: jmrcr rb enah vrblqrnerxdb lqrum\n",
      "Do you want to continue? type 'Y' for Yes and 'N'for No :t\n",
      "Type 'encode' to encrypt, type 'decode' to decrypt:\n",
      "decode\n",
      "Type your message:\n",
      "jmrcr rb enah vrblqrnerxdb lqrum\n",
      "Type the shift number:\n",
      "9\n",
      "your decoded text is: aditi is very mischievious child\n"
     ]
    }
   ],
   "source": [
    "logo = \"\"\"           \n",
    " ,adPPYba, ,adPPYYba,  ,adPPYba, ,adPPYba, ,adPPYYba, 8b,dPPYba,  \n",
    "a8\"     \"\" \"\"     `Y8 a8P_____88 I8[    \"\" \"\"     `Y8 88P'   \"Y8  \n",
    "8b         ,adPPPPP88 8PP\"\"\"\"\"\"\"  `\"Y8ba,  ,adPPPPP88 88          \n",
    "\"8a,   ,aa 88,    ,88 \"8b,   ,aa aa    ]8I 88,    ,88 88          \n",
    " `\"Ybbd8\"' `\"8bbdP\"Y8  `\"Ybbd8\"' `\"YbbdP\"' `\"8bbdP\"Y8 88   \n",
    "            88             88                                 \n",
    "           \"\"             88                                 \n",
    "                          88                                 \n",
    " ,adPPYba, 88 8b,dPPYba,  88,dPPYba,   ,adPPYba, 8b,dPPYba,  \n",
    "a8\"     \"\" 88 88P'    \"8a 88P'    \"8a a8P_____88 88P'   \"Y8  \n",
    "8b         88 88       d8 88       88 8PP\"\"\"\"\"\"\" 88          \n",
    "\"8a,   ,aa 88 88b,   ,a8\" 88       88 \"8b,   ,aa 88          \n",
    " `\"Ybbd8\"' 88 88`YbbdP\"'  88       88  `\"Ybbd8\"' 88          \n",
    "              88                                             \n",
    "              88           \n",
    "\"\"\"\n",
    "\n",
    "alphabet = ['a', 'b', 'c', 'd', 'e', 'f', 'g', 'h', 'i', 'j', 'k', 'l', 'm', 'n', 'o', \n",
    "            'p', 'q', 'r', 's', 't', 'u', 'v', 'w', 'x', 'y', 'z',\n",
    "            'a', 'b', 'c', 'd', 'e', 'f', 'g', 'h', 'i', 'j', 'k', 'l', 'm', 'n', 'o', \n",
    "            'p', 'q', 'r', 's', 't', 'u', 'v', 'w', 'x', 'y', 'z']\n",
    "\n",
    "\n",
    "def caesar_cipher(plain_text, shift_amount ,encode_decode_direction):\n",
    "    end_text = \"\"\n",
    "    shift_amount = shift_amount % 26  \n",
    "\n",
    "    if encode_decode_direction != \"encode\" and encode_decode_direction != \"decode\":\n",
    "        print(\"incorrect input. choose either encode or decode.\")\n",
    "\n",
    "    else:\n",
    "        for letter in plain_text:\n",
    "            if letter in alphabet:\n",
    "                position = alphabet.index(letter)\n",
    "                if encode_decode_direction == \"encode\":\n",
    "                    new_position = position + shift_amount\n",
    "                    end_text += alphabet[new_position]\n",
    "                if encode_decode_direction == \"decode\":\n",
    "                    new_position = position - shift_amount\n",
    "                    end_text = end_text + alphabet[new_position]\n",
    "            else:\n",
    "                end_text = end_text + letter\n",
    "\n",
    "        print(f\"your {encode_decode_direction}d text is: {end_text}\")\n",
    "\n",
    "             \n",
    "print(logo)\n",
    "repeat = True\n",
    "while repeat == True:\n",
    "    direction = input(\"Type 'encode' to encrypt, type 'decode' to decrypt:\\n\").lower()\n",
    "    text = input(\"Type your message:\\n\").lower()\n",
    "    shift = int(input(\"Type the shift number:\\n\"))\n",
    "    \n",
    "    \n",
    "    caesar_cipher(plain_text = text, shift_amount = shift,encode_decode_direction = direction)\n",
    "    rep = input(\"Do you want to continue? type 'Y' for Yes and 'N'for No :\").upper()\n",
    "\n",
    "    if rep == \"Y\":\n",
    "        repeat = True\n",
    "    if rep == \"N\":\n",
    "        repeat = False\n",
    "        print(\"Good bye. Have a nice day\")\n",
    "\n"
   ]
  },
  {
   "cell_type": "code",
   "execution_count": null,
   "metadata": {},
   "outputs": [],
   "source": []
  }
 ],
 "metadata": {
  "kernelspec": {
   "display_name": "Python 3",
   "language": "python",
   "name": "python3"
  },
  "language_info": {
   "codemirror_mode": {
    "name": "ipython",
    "version": 3
   },
   "file_extension": ".py",
   "mimetype": "text/x-python",
   "name": "python",
   "nbconvert_exporter": "python",
   "pygments_lexer": "ipython3",
   "version": "3.8.5"
  }
 },
 "nbformat": 4,
 "nbformat_minor": 4
}
