{
 "cells": [
  {
   "cell_type": "markdown",
   "metadata": {},
   "source": [
    "# Average height calculator"
   ]
  },
  {
   "cell_type": "code",
   "execution_count": 9,
   "metadata": {},
   "outputs": [
    {
     "name": "stdout",
     "output_type": "stream",
     "text": [
      "Enter the students heights: 451,15,415,44,156\n",
      "avg ht is 216.2\n"
     ]
    }
   ],
   "source": [
    "student_height = input(\"Enter the students heights: \").split(\",\")\n",
    "\n",
    "Method 1 \n",
    "\n",
    "# converting each from string to integer and storing at same index number\n",
    "for n in range(0, len(student_height)):\n",
    "  student_height[n] = int(student_height[n])\n",
    "\n",
    "# print(student_height)\n",
    "\n",
    "total_ht = 0                 # total height\n",
    "for ht in student_height:\n",
    "  total_ht = total_ht + ht\n",
    "# print(total_ht)\n",
    "\n",
    "number_of_students = 0       # number of students\n",
    "for n in student_height:\n",
    "  number_of_students = number_of_students + 1\n",
    "# print(number_of_students)\n",
    "\n",
    "avg_ht = round(total_ht / number_of_students , 2)        # average\n",
    "print(\"Average height of the students is \", avg_ht)\n",
    "\n",
    "\n",
    "\n",
    "# # Method 2\n",
    "\n",
    "# # converting each from string to integer\n",
    "# for n in range(0, len(student_height)):\n",
    "#   student_height[n] = int(student_height[n])\n",
    "\n",
    "# total_ht = sum(student_height)\n",
    "# number_of_students = len(student_height)\n",
    "# avg = round(total_ht / number_of_students , 2)\n",
    "# print(\"avg ht is\",avg)\n"
   ]
  },
  {
   "cell_type": "code",
   "execution_count": null,
   "metadata": {},
   "outputs": [],
   "source": []
  },
  {
   "cell_type": "markdown",
   "metadata": {},
   "source": [
    "# Highest score\n"
   ]
  },
  {
   "cell_type": "code",
   "execution_count": 2,
   "metadata": {},
   "outputs": [
    {
     "name": "stdout",
     "output_type": "stream",
     "text": [
      "Enter a list of student scores: 89,78,59,89,84,99\n",
      "[89, 78, 59, 89, 84, 99]\n",
      "99\n"
     ]
    }
   ],
   "source": [
    "student_scores = input(\"Enter a list of student scores: \").split(\",\")\n",
    "\n",
    "# Method 1\n",
    "for n in range (0,len(student_scores)):\n",
    "  student_scores[n] = int(student_scores[n])\n",
    "# print(student_scores)\n",
    "\n",
    "highest_score = 0\n",
    "for score in student_scores:\n",
    "  if score >= highest_score:\n",
    "    highest_score = score\n",
    "  else :\n",
    "    continue\n",
    "\n",
    "print(\"Highest score in the class is : \",highest_score)\n",
    "\n",
    "\n",
    "\n",
    "\n",
    "# # Method 2 \n",
    "# for n in range (0,len(student_scores)):\n",
    "#   student_scores[n] = int(student_scores[n])\n",
    "# # print(student_scores)\n",
    "\n",
    "# highest = max(student_scores)\n",
    "# print((highest))\n"
   ]
  },
  {
   "cell_type": "markdown",
   "metadata": {},
   "source": [
    "# Password generator method 1"
   ]
  },
  {
   "cell_type": "code",
   "execution_count": 19,
   "metadata": {},
   "outputs": [
    {
     "name": "stdout",
     "output_type": "stream",
     "text": [
      "Welcome to the PyPassword Generator!\n",
      "How many letters would you like in your password?\n",
      "5\n",
      "How many symbols would you like?\n",
      "1\n",
      "How many numbers would you like?\n",
      "2\n",
      "1 Your suggested is:  jKqcy16)\n",
      "['+', '&', '9', 'l', 'e', 's', 'a', 'I']\n",
      "['q', '6', ')', 'K', '1', 'c', 'j', 'y']\n",
      "Your randomized password is:  q6)K1cjy\n"
     ]
    }
   ],
   "source": [
    "#Password Generator Project\n",
    "import random\n",
    "letters = ['a', 'b', 'c', 'd', 'e', 'f', 'g', 'h', 'i', 'j', 'k', 'l', 'm', 'n', 'o', 'p', 'q', 'r', 's', 't', 'u', 'v', 'w', 'x', 'y', 'z', 'A', 'B', 'C', 'D', 'E', 'F', 'G', 'H', 'I', 'J', 'K', 'L', 'M', 'N', 'O', 'P', 'Q', 'R', 'S', 'T', 'U', 'V', 'W', 'X', 'Y', 'Z']\n",
    "numbers = ['0', '1', '2', '3', '4', '5', '6', '7', '8', '9']\n",
    "symbols = ['!', '#', '$', '%', '&', '(', ')', '*', '+']\n",
    "\n",
    "print(\"Welcome to the PyPassword Generator!\")\n",
    "nr_letters= int(input(\"How many letters would you like in your password?\\n\")) \n",
    "nr_symbols = int(input(f\"How many symbols would you like?\\n\"))\n",
    "nr_numbers = int(input(f\"How many numbers would you like?\\n\"))\n",
    "\n",
    "# #Eazy Level - Order not randomised:\n",
    "# #e.g. 4 letter, 2 symbol, 2 number = JduE&!91\n",
    "password = \"\"\n",
    "for i in range (1,nr_letters + 1):             # upper limit is not included\n",
    "  int_letters = random.randint(0,len(letters) - 1)      # both limits included\n",
    "  pswd_letter = (letters[int_letters])\n",
    "  # print(pswd_letter)\n",
    "  password = password + pswd_letter\n",
    "\n",
    "for i in range (1,nr_numbers + 1):\n",
    "  int_numbers = random.randint(0,len(numbers) - 1)\n",
    "  pswd_number = numbers[int_numbers]\n",
    "  # print(pswd_number)\n",
    "  password = password + pswd_number\n",
    "\n",
    "for i in range (1,nr_symbols + 1):\n",
    "  int_symbols = random.randint(0,len(symbols) - 1)\n",
    "  pswd_symbol = symbols[int_symbols]\n",
    "  # print(pswd_symbol)\n",
    "  password = password + pswd_symbol\n",
    "\n",
    "# password = pswd_letter + pswd_number + pswd_symbol\n",
    "print(\"Your suggested is: \",password)\n",
    "\n",
    "\n",
    "\n",
    "\n",
    "\n",
    "#Hard Level - Order of characters randomised:54\n",
    "#e.g. 4 letter, 2 symbol, 2 number = g^2jk8&P\n",
    "\n",
    "## continued from above\n",
    "password_list = list(password)    # converted to list as string cannot be shuffled\n",
    "\n",
    "# print(random_password)\n",
    "random.shuffle(password_list)   # this cannot be assigned to any variable\n",
    "# print(password_list)\n",
    "\n",
    "random_password = \"\"    # converted again to string\n",
    "for char in password_list:\n",
    "  random_password = random_password + char\n",
    "\n",
    "print(\"Your randomized password is: \",random_password)"
   ]
  },
  {
   "cell_type": "code",
   "execution_count": null,
   "metadata": {},
   "outputs": [],
   "source": []
  },
  {
   "cell_type": "markdown",
   "metadata": {},
   "source": [
    "# Password generator method 2"
   ]
  },
  {
   "cell_type": "code",
   "execution_count": 20,
   "metadata": {},
   "outputs": [
    {
     "name": "stdout",
     "output_type": "stream",
     "text": [
      "Welcome to the PyPassword Generator!\n",
      "How many letters would you like in your password?\n",
      "5\n",
      "How many symbols would you like?\n",
      "1\n",
      "How many numbers would you like?\n",
      "2\n",
      "Your suggested is:  turOP84&\n",
      "Your randomized password is:  4t&Pr8uO\n"
     ]
    }
   ],
   "source": [
    "#Password Generator Project\n",
    "import random\n",
    "letters = ['a', 'b', 'c', 'd', 'e', 'f', 'g', 'h', 'i', 'j', 'k', 'l', 'm', 'n', 'o', 'p', 'q', 'r', 's', 't', 'u', 'v', 'w', 'x', 'y', 'z', 'A', 'B', 'C', 'D', 'E', 'F', 'G', 'H', 'I', 'J', 'K', 'L', 'M', 'N', 'O', 'P', 'Q', 'R', 'S', 'T', 'U', 'V', 'W', 'X', 'Y', 'Z']\n",
    "numbers = ['0', '1', '2', '3', '4', '5', '6', '7', '8', '9']\n",
    "symbols = ['!', '#', '$', '%', '&', '(', ')', '*', '+']\n",
    "\n",
    "print(\"Welcome to the PyPassword Generator!\")\n",
    "nr_letters= int(input(\"How many letters would you like in your password?\\n\")) \n",
    "nr_symbols = int(input(f\"How many symbols would you like?\\n\"))\n",
    "nr_numbers = int(input(f\"How many numbers would you like?\\n\"))\n",
    "\n",
    "# #Eazy Level - Order not randomised:\n",
    "# #e.g. 4 letter, 2 symbol, 2 number = JduE&!91\n",
    "password = \"\"\n",
    "for i in range (1,nr_letters + 1):             # upper limit is not included\n",
    "  password = password + random.choice(letters)\n",
    "\n",
    "for i in range (1,nr_numbers + 1):\n",
    "  password = password + random.choice(numbers)\n",
    "\n",
    "\n",
    "for i in range (1,nr_symbols + 1):\n",
    "  password = password + random.choice(symbols)\n",
    "\n",
    "# password = pswd_letter + pswd_number + pswd_symbol\n",
    "print(\"Your suggested is: \",password)\n",
    "\n",
    "\n",
    "\n",
    "\n",
    "\n",
    "#Hard Level - Order of characters randomised:54\n",
    "#e.g. 4 letter, 2 symbol, 2 number = g^2jk8&P\n",
    "\n",
    "## continued from above\n",
    "password_list = list(password)   # converted to list as string cannot be shuffled\n",
    "\n",
    "# print(random_password)\n",
    "random.shuffle(password_list)   # this cannot be assigned to any variable\n",
    "# print(password_list)\n",
    "\n",
    "random_password = \"\"    # converted again to string\n",
    "for char in password_list:\n",
    "  random_password = random_password + char\n",
    "\n",
    "print(\"Your randomized password is: \",random_password)"
   ]
  },
  {
   "cell_type": "code",
   "execution_count": null,
   "metadata": {},
   "outputs": [],
   "source": []
  },
  {
   "cell_type": "code",
   "execution_count": null,
   "metadata": {},
   "outputs": [],
   "source": []
  },
  {
   "cell_type": "code",
   "execution_count": null,
   "metadata": {},
   "outputs": [],
   "source": []
  },
  {
   "cell_type": "code",
   "execution_count": null,
   "metadata": {},
   "outputs": [],
   "source": []
  },
  {
   "cell_type": "code",
   "execution_count": null,
   "metadata": {},
   "outputs": [],
   "source": []
  },
  {
   "cell_type": "code",
   "execution_count": null,
   "metadata": {},
   "outputs": [],
   "source": []
  },
  {
   "cell_type": "code",
   "execution_count": null,
   "metadata": {},
   "outputs": [],
   "source": []
  }
 ],
 "metadata": {
  "kernelspec": {
   "display_name": "Python 3",
   "language": "python",
   "name": "python3"
  },
  "language_info": {
   "codemirror_mode": {
    "name": "ipython",
    "version": 3
   },
   "file_extension": ".py",
   "mimetype": "text/x-python",
   "name": "python",
   "nbconvert_exporter": "python",
   "pygments_lexer": "ipython3",
   "version": "3.8.5"
  }
 },
 "nbformat": 4,
 "nbformat_minor": 4
}
