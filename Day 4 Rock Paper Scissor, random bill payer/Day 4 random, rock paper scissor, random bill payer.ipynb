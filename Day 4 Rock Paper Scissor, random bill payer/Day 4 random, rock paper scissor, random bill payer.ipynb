{
 "cells": [
  {
   "cell_type": "markdown",
   "metadata": {},
   "source": [
    "# Randomization intro"
   ]
  },
  {
   "cell_type": "code",
   "execution_count": 4,
   "metadata": {},
   "outputs": [
    {
     "name": "stdout",
     "output_type": "stream",
     "text": [
      "0\n",
      "0.5708\n",
      "2.854\n"
     ]
    }
   ],
   "source": [
    "import random\n",
    "\n",
    "random_integer = random.randint(0,5)\n",
    "print(random_integer)\n",
    "\n",
    "random_float = round(random.random(),4) # round is to round off\n",
    "print(random_float) # This generates random float betn 0.0000 to 0.9999\n",
    "\n",
    "# # METHOD 1\n",
    "# print(random_integer + random_float) \n",
    "# # this generates random float betn 0 to 5.9999 (since 5 is included in int and float is added to it)\n",
    "\n",
    "# Method 2\n",
    "print(random_float * 5)\n",
    "# this generates random float betn 0.000 and 4.9999"
   ]
  },
  {
   "cell_type": "markdown",
   "metadata": {},
   "source": [
    "# Toss"
   ]
  },
  {
   "cell_type": "code",
   "execution_count": 1,
   "metadata": {},
   "outputs": [
    {
     "name": "stdout",
     "output_type": "stream",
     "text": [
      "Tails\n"
     ]
    }
   ],
   "source": [
    "import random\n",
    "\n",
    "toss = random.randint(0,1)\n",
    "\n",
    "if toss == 0:\n",
    "  print(\"Heads\")\n",
    "if toss == 1:\n",
    "  print(\"Tails\")"
   ]
  },
  {
   "cell_type": "code",
   "execution_count": null,
   "metadata": {},
   "outputs": [],
   "source": []
  },
  {
   "cell_type": "markdown",
   "metadata": {},
   "source": [
    "# Random bill payer"
   ]
  },
  {
   "cell_type": "code",
   "execution_count": 14,
   "metadata": {},
   "outputs": [
    {
     "name": "stdout",
     "output_type": "stream",
     "text": [
      "Give me everybody's name separated by a comma ',' \n",
      "a,s,d,f,g\n",
      "f is going to pay todays bill\n"
     ]
    }
   ],
   "source": [
    "all = input(\"Give me everybody's name separated by a comma ',' \\n\")\n",
    "names = all.split(\",\")\n",
    "\n",
    "import random\n",
    "\n",
    "random_choice = random.randint(0,(len(names) - 1))\n",
    "random_name = names[random_choice]\n",
    "\n",
    "# random_name = random.choice(names)\n",
    "# #can directly use this without \n",
    "# #random_choice = random.randint(0,(len(names) - 1))\n",
    "# # directly assign random.choice(names) to random_name\n",
    "\n",
    "print(random_name,\"is going to pay todays bill\")"
   ]
  },
  {
   "cell_type": "code",
   "execution_count": null,
   "metadata": {},
   "outputs": [],
   "source": []
  },
  {
   "cell_type": "markdown",
   "metadata": {},
   "source": [
    "# place your treasure"
   ]
  },
  {
   "cell_type": "code",
   "execution_count": 3,
   "metadata": {},
   "outputs": [
    {
     "name": "stdout",
     "output_type": "stream",
     "text": [
      "['7', '8', '9']\n",
      "['4', '5', '6']\n",
      "['1', '2', '3']\n",
      "Where do you want to place the treasure(row,column)? 32\n",
      "['7', '8', '9']\n",
      "['4', '5', '6']\n",
      "['1', 'X', '3']\n"
     ]
    }
   ],
   "source": [
    "0\n",
    "row1 = [\"7\",\"8\",\"9\"]\n",
    "row2 = [\"4\",\"5\",\"6\"]\n",
    "row3 = [\"1\",\"2\",\"3\"]\n",
    "\n",
    "map = [row1,row2,row3]\n",
    "print(f\"{row1}\\n{row2}\\n{row3}\")\n",
    "\n",
    "position = input(\"Where do you want to place the treasure(row,column)? \")\n",
    "\n",
    "#23\n",
    "row = int(position[0]) #2\n",
    "column = int(position[1]) #3\n",
    "\n",
    "# print(\"\\n\")\n",
    "\n",
    "# print(map[vertical - 1]) #second row\n",
    "selected_row = map[row - 1]\n",
    "selected_row[column -1] = \"X\"     # selected tile \n",
    "\n",
    "map = [row1,row2,row3]\n",
    "print(f\"{row1}\\n{row2}\\n{row3}\")\n"
   ]
  },
  {
   "cell_type": "markdown",
   "metadata": {},
   "source": [
    "# Rock paper scissor"
   ]
  },
  {
   "cell_type": "code",
   "execution_count": null,
   "metadata": {},
   "outputs": [],
   "source": [
    "rock = '''\n",
    "    _______\n",
    "---'   ____)\n",
    "      (_____)\n",
    "      (_____)\n",
    "      (____)\n",
    "---.__(___)\n",
    "'''\n",
    "\n",
    "paper = '''\n",
    "    _______\n",
    "---'   ____)____\n",
    "          ______)\n",
    "          _______)\n",
    "         _______)\n",
    "---.__________)\n",
    "'''\n",
    "\n",
    "scissors = '''\n",
    "    _______\n",
    "---'   ____)____\n",
    "          ______)\n",
    "       __________)\n",
    "      (____)\n",
    "---.__(___)\n",
    "'''\n",
    "\n",
    "game_images = [rock,paper,scissors]\n",
    "\n",
    "import random\n",
    "\n",
    "user_choice = int(input(\"What do you choose? type 0 for rock, 1 for paper, 2 for scissors \\n\"))\n",
    "computer_choice = random.randint(0,2)\n",
    "\n",
    "print(\"computer chose:\", game_images[computer_choice]) \n",
    "\n",
    "if user_choice >= 3 or user_choice  < 0:\n",
    "  print(\"invalid input. You lose!\")\n",
    "else:\n",
    "  print(\"You chose:\",game_images[user_choice])\n",
    "\n",
    "\n",
    "\n",
    "  if user_choice == 0 and computer_choice == 1:\n",
    "    print(\"You lose!\")\n",
    "  elif user_choice == 0 and computer_choice == 2:\n",
    "    print(\"You win!\")\n",
    "  elif user_choice == 1 and computer_choice == 0:\n",
    "    print(\"You win!\")\n",
    "  elif user_choice == 1 and computer_choice == 2:\n",
    "    print(\"You lose!\")\n",
    "  elif user_choice == 2 and computer_choice == 0:\n",
    "    print(\"You lose!\")\n",
    "  elif user_choice == 2 and computer_choice == 1:\n",
    "    print(\"You win!\")\n",
    "  elif user_choice == computer_choice:\n",
    "    print(\"It's a draw!\")\n",
    "  # elif user_choice >= 3 or user_choice < 0:\n",
    "  #   print(\"invalid input. You lose!\")\n",
    "\n"
   ]
  }
 ],
 "metadata": {
  "kernelspec": {
   "display_name": "Python 3",
   "language": "python",
   "name": "python3"
  },
  "language_info": {
   "codemirror_mode": {
    "name": "ipython",
    "version": 3
   },
   "file_extension": ".py",
   "mimetype": "text/x-python",
   "name": "python",
   "nbconvert_exporter": "python",
   "pygments_lexer": "ipython3",
   "version": "3.8.5"
  }
 },
 "nbformat": 4,
 "nbformat_minor": 4
}
